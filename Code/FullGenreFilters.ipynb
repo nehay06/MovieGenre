{
 "cells": [
  {
   "cell_type": "markdown",
   "metadata": {},
   "source": [
    "Load the csv file into dataframe and display the top rows."
   ]
  },
  {
   "cell_type": "code",
   "execution_count": 1,
   "metadata": {},
   "outputs": [
    {
     "data": {
      "text/html": [
       "<div>\n",
       "<table border=\"1\" class=\"dataframe\">\n",
       "  <thead>\n",
       "    <tr style=\"text-align: right;\">\n",
       "      <th></th>\n",
       "      <th>Genre</th>\n",
       "      <th>imdbId</th>\n",
       "      <th>Feature1</th>\n",
       "      <th>Feature2</th>\n",
       "    </tr>\n",
       "  </thead>\n",
       "  <tbody>\n",
       "    <tr>\n",
       "      <th>0</th>\n",
       "      <td>Animation|Adventure|Comedy</td>\n",
       "      <td>114709</td>\n",
       "      <td>Animation</td>\n",
       "      <td>0</td>\n",
       "    </tr>\n",
       "    <tr>\n",
       "      <th>1</th>\n",
       "      <td>Action|Adventure|Family</td>\n",
       "      <td>113497</td>\n",
       "      <td>Action</td>\n",
       "      <td>1</td>\n",
       "    </tr>\n",
       "    <tr>\n",
       "      <th>2</th>\n",
       "      <td>Comedy|Romance</td>\n",
       "      <td>113228</td>\n",
       "      <td>Comedy</td>\n",
       "      <td>2</td>\n",
       "    </tr>\n",
       "    <tr>\n",
       "      <th>3</th>\n",
       "      <td>Comedy|Drama|Romance</td>\n",
       "      <td>114885</td>\n",
       "      <td>Comedy</td>\n",
       "      <td>2</td>\n",
       "    </tr>\n",
       "    <tr>\n",
       "      <th>4</th>\n",
       "      <td>Comedy|Family|Romance</td>\n",
       "      <td>113041</td>\n",
       "      <td>Comedy</td>\n",
       "      <td>2</td>\n",
       "    </tr>\n",
       "  </tbody>\n",
       "</table>\n",
       "</div>"
      ],
      "text/plain": [
       "                        Genre  imdbId   Feature1  Feature2\n",
       "0  Animation|Adventure|Comedy  114709  Animation         0\n",
       "1     Action|Adventure|Family  113497     Action         1\n",
       "2              Comedy|Romance  113228     Comedy         2\n",
       "3        Comedy|Drama|Romance  114885     Comedy         2\n",
       "4       Comedy|Family|Romance  113041     Comedy         2"
      ]
     },
     "execution_count": 1,
     "metadata": {},
     "output_type": "execute_result"
    }
   ],
   "source": [
    "import pandas as pd\n",
    "df = pd.read_csv(\"./../Dataset/GenresFullLabels.csv\",delimiter=\",\").fillna(\"-NA-\")\n",
    "df.head()"
   ]
  },
  {
   "cell_type": "markdown",
   "metadata": {},
   "source": [
    "Dispaly all the columns present in the dataframe."
   ]
  },
  {
   "cell_type": "code",
   "execution_count": 37,
   "metadata": {},
   "outputs": [
    {
     "name": "stdout",
     "output_type": "stream",
     "text": [
      "['Genre', 'imdbId', 'Feature1', 'Feature2']\n"
     ]
    }
   ],
   "source": [
    "columns = list(df.columns.values)\n",
    "print columns"
   ]
  },
  {
   "cell_type": "markdown",
   "metadata": {},
   "source": [
    "Count the number of unique genre and their counts present in the dataset. It is observed that Drama, Comedy and Action are the top 3 genres."
   ]
  },
  {
   "cell_type": "code",
   "execution_count": 38,
   "metadata": {},
   "outputs": [
    {
     "data": {
      "text/plain": [
       "Drama          9779\n",
       "Comedy         9657\n",
       "Action         4725\n",
       "Documentary    3526\n",
       "Crime          2546\n",
       "Horror         1971\n",
       "Adventure      1674\n",
       "Animation      1624\n",
       "Biography      1223\n",
       "Thriller        397\n",
       "Short           392\n",
       "Western         315\n",
       "Fantasy         272\n",
       "Mystery         256\n",
       "Family          243\n",
       "Romance         203\n",
       "Sci-Fi          192\n",
       "Musical         115\n",
       "War              65\n",
       "Music            36\n",
       "History          24\n",
       "Film-Noir        16\n",
       "Adult             7\n",
       "Talk-Show         3\n",
       "Sport             2\n",
       "Name: Feature1, dtype: int64"
      ]
     },
     "execution_count": 38,
     "metadata": {},
     "output_type": "execute_result"
    }
   ],
   "source": [
    "df.Feature1.value_counts()"
   ]
  },
  {
   "cell_type": "markdown",
   "metadata": {},
   "source": [
    "There are 25 genre categories present in the dataset. Filter each Genre and store it. These will be used to prepare subset of dataset."
   ]
  },
  {
   "cell_type": "code",
   "execution_count": 39,
   "metadata": {},
   "outputs": [
    {
     "name": "stdout",
     "output_type": "stream",
     "text": [
      "(9779, 4)\n"
     ]
    },
    {
     "data": {
      "text/html": [
       "<div>\n",
       "<table border=\"1\" class=\"dataframe\">\n",
       "  <thead>\n",
       "    <tr style=\"text-align: right;\">\n",
       "      <th></th>\n",
       "      <th>Genre</th>\n",
       "      <th>imdbId</th>\n",
       "      <th>Feature1</th>\n",
       "      <th>Feature2</th>\n",
       "    </tr>\n",
       "  </thead>\n",
       "  <tbody>\n",
       "    <tr>\n",
       "      <th>16</th>\n",
       "      <td>Drama|Romance</td>\n",
       "      <td>114388</td>\n",
       "      <td>Drama</td>\n",
       "      <td>6</td>\n",
       "    </tr>\n",
       "    <tr>\n",
       "      <th>23</th>\n",
       "      <td>Drama|Fantasy|Mystery</td>\n",
       "      <td>114168</td>\n",
       "      <td>Drama</td>\n",
       "      <td>6</td>\n",
       "    </tr>\n",
       "    <tr>\n",
       "      <th>24</th>\n",
       "      <td>Drama|Romance</td>\n",
       "      <td>113627</td>\n",
       "      <td>Drama</td>\n",
       "      <td>6</td>\n",
       "    </tr>\n",
       "    <tr>\n",
       "      <th>25</th>\n",
       "      <td>Drama|Romance</td>\n",
       "      <td>114057</td>\n",
       "      <td>Drama</td>\n",
       "      <td>6</td>\n",
       "    </tr>\n",
       "    <tr>\n",
       "      <th>27</th>\n",
       "      <td>Drama</td>\n",
       "      <td>114117</td>\n",
       "      <td>Drama</td>\n",
       "      <td>6</td>\n",
       "    </tr>\n",
       "  </tbody>\n",
       "</table>\n",
       "</div>"
      ],
      "text/plain": [
       "                    Genre  imdbId Feature1  Feature2\n",
       "16          Drama|Romance  114388    Drama         6\n",
       "23  Drama|Fantasy|Mystery  114168    Drama         6\n",
       "24          Drama|Romance  113627    Drama         6\n",
       "25          Drama|Romance  114057    Drama         6\n",
       "27                  Drama  114117    Drama         6"
      ]
     },
     "execution_count": 39,
     "metadata": {},
     "output_type": "execute_result"
    }
   ],
   "source": [
    "#Genre1\n",
    "Drama = df.loc[df[\"Feature1\"] == \"Drama\"]\n",
    "print(Drama.shape)\n",
    "Drama.head()"
   ]
  },
  {
   "cell_type": "code",
   "execution_count": 40,
   "metadata": {},
   "outputs": [
    {
     "name": "stdout",
     "output_type": "stream",
     "text": [
      "(9657, 4)\n"
     ]
    },
    {
     "data": {
      "text/html": [
       "<div>\n",
       "<table border=\"1\" class=\"dataframe\">\n",
       "  <thead>\n",
       "    <tr style=\"text-align: right;\">\n",
       "      <th></th>\n",
       "      <th>Genre</th>\n",
       "      <th>imdbId</th>\n",
       "      <th>Feature1</th>\n",
       "      <th>Feature2</th>\n",
       "    </tr>\n",
       "  </thead>\n",
       "  <tbody>\n",
       "    <tr>\n",
       "      <th>2</th>\n",
       "      <td>Comedy|Romance</td>\n",
       "      <td>113228</td>\n",
       "      <td>Comedy</td>\n",
       "      <td>2</td>\n",
       "    </tr>\n",
       "    <tr>\n",
       "      <th>3</th>\n",
       "      <td>Comedy|Drama|Romance</td>\n",
       "      <td>114885</td>\n",
       "      <td>Comedy</td>\n",
       "      <td>2</td>\n",
       "    </tr>\n",
       "    <tr>\n",
       "      <th>4</th>\n",
       "      <td>Comedy|Family|Romance</td>\n",
       "      <td>113041</td>\n",
       "      <td>Comedy</td>\n",
       "      <td>2</td>\n",
       "    </tr>\n",
       "    <tr>\n",
       "      <th>6</th>\n",
       "      <td>Comedy|Drama</td>\n",
       "      <td>114319</td>\n",
       "      <td>Comedy</td>\n",
       "      <td>2</td>\n",
       "    </tr>\n",
       "    <tr>\n",
       "      <th>10</th>\n",
       "      <td>Comedy|Drama|Romance</td>\n",
       "      <td>112346</td>\n",
       "      <td>Comedy</td>\n",
       "      <td>2</td>\n",
       "    </tr>\n",
       "  </tbody>\n",
       "</table>\n",
       "</div>"
      ],
      "text/plain": [
       "                    Genre  imdbId Feature1  Feature2\n",
       "2          Comedy|Romance  113228   Comedy         2\n",
       "3    Comedy|Drama|Romance  114885   Comedy         2\n",
       "4   Comedy|Family|Romance  113041   Comedy         2\n",
       "6            Comedy|Drama  114319   Comedy         2\n",
       "10   Comedy|Drama|Romance  112346   Comedy         2"
      ]
     },
     "execution_count": 40,
     "metadata": {},
     "output_type": "execute_result"
    }
   ],
   "source": [
    "#Genre2\n",
    "Comedy = df.loc[df[\"Feature1\"] == \"Comedy\"]\n",
    "print(Comedy.shape)\n",
    "Comedy.head()"
   ]
  },
  {
   "cell_type": "code",
   "execution_count": 41,
   "metadata": {},
   "outputs": [
    {
     "name": "stdout",
     "output_type": "stream",
     "text": [
      "(4725, 4)\n"
     ]
    },
    {
     "data": {
      "text/html": [
       "<div>\n",
       "<table border=\"1\" class=\"dataframe\">\n",
       "  <thead>\n",
       "    <tr style=\"text-align: right;\">\n",
       "      <th></th>\n",
       "      <th>Genre</th>\n",
       "      <th>imdbId</th>\n",
       "      <th>Feature1</th>\n",
       "      <th>Feature2</th>\n",
       "    </tr>\n",
       "  </thead>\n",
       "  <tbody>\n",
       "    <tr>\n",
       "      <th>1</th>\n",
       "      <td>Action|Adventure|Family</td>\n",
       "      <td>113497</td>\n",
       "      <td>Action</td>\n",
       "      <td>1</td>\n",
       "    </tr>\n",
       "    <tr>\n",
       "      <th>5</th>\n",
       "      <td>Action|Crime|Drama</td>\n",
       "      <td>113277</td>\n",
       "      <td>Action</td>\n",
       "      <td>1</td>\n",
       "    </tr>\n",
       "    <tr>\n",
       "      <th>8</th>\n",
       "      <td>Action|Crime|Thriller</td>\n",
       "      <td>114576</td>\n",
       "      <td>Action</td>\n",
       "      <td>1</td>\n",
       "    </tr>\n",
       "    <tr>\n",
       "      <th>9</th>\n",
       "      <td>Action|Adventure|Thriller</td>\n",
       "      <td>113189</td>\n",
       "      <td>Action</td>\n",
       "      <td>1</td>\n",
       "    </tr>\n",
       "    <tr>\n",
       "      <th>14</th>\n",
       "      <td>Action|Adventure|Comedy</td>\n",
       "      <td>112760</td>\n",
       "      <td>Action</td>\n",
       "      <td>1</td>\n",
       "    </tr>\n",
       "  </tbody>\n",
       "</table>\n",
       "</div>"
      ],
      "text/plain": [
       "                        Genre  imdbId Feature1  Feature2\n",
       "1     Action|Adventure|Family  113497   Action         1\n",
       "5          Action|Crime|Drama  113277   Action         1\n",
       "8       Action|Crime|Thriller  114576   Action         1\n",
       "9   Action|Adventure|Thriller  113189   Action         1\n",
       "14    Action|Adventure|Comedy  112760   Action         1"
      ]
     },
     "execution_count": 41,
     "metadata": {},
     "output_type": "execute_result"
    }
   ],
   "source": [
    "#Genre3\n",
    "Action = df.loc[df[\"Feature1\"] == \"Action\"] \n",
    "print(Action.shape)\n",
    "Action.head()"
   ]
  },
  {
   "cell_type": "code",
   "execution_count": 42,
   "metadata": {},
   "outputs": [
    {
     "name": "stdout",
     "output_type": "stream",
     "text": [
      "(3526, 4)\n"
     ]
    },
    {
     "data": {
      "text/html": [
       "<div>\n",
       "<table border=\"1\" class=\"dataframe\">\n",
       "  <thead>\n",
       "    <tr style=\"text-align: right;\">\n",
       "      <th></th>\n",
       "      <th>Genre</th>\n",
       "      <th>imdbId</th>\n",
       "      <th>Feature1</th>\n",
       "      <th>Feature2</th>\n",
       "    </tr>\n",
       "  </thead>\n",
       "  <tbody>\n",
       "    <tr>\n",
       "      <th>76</th>\n",
       "      <td>Documentary|Biography|Music</td>\n",
       "      <td>113973</td>\n",
       "      <td>Documentary</td>\n",
       "      <td>11</td>\n",
       "    </tr>\n",
       "    <tr>\n",
       "      <th>97</th>\n",
       "      <td>Documentary|Biography</td>\n",
       "      <td>113283</td>\n",
       "      <td>Documentary</td>\n",
       "      <td>11</td>\n",
       "    </tr>\n",
       "    <tr>\n",
       "      <th>106</th>\n",
       "      <td>Documentary</td>\n",
       "      <td>112646</td>\n",
       "      <td>Documentary</td>\n",
       "      <td>11</td>\n",
       "    </tr>\n",
       "    <tr>\n",
       "      <th>114</th>\n",
       "      <td>Documentary|Biography|War</td>\n",
       "      <td>112373</td>\n",
       "      <td>Documentary</td>\n",
       "      <td>11</td>\n",
       "    </tr>\n",
       "    <tr>\n",
       "      <th>126</th>\n",
       "      <td>Documentary|Biography|Mystery</td>\n",
       "      <td>110217</td>\n",
       "      <td>Documentary</td>\n",
       "      <td>11</td>\n",
       "    </tr>\n",
       "  </tbody>\n",
       "</table>\n",
       "</div>"
      ],
      "text/plain": [
       "                             Genre  imdbId     Feature1  Feature2\n",
       "76     Documentary|Biography|Music  113973  Documentary        11\n",
       "97           Documentary|Biography  113283  Documentary        11\n",
       "106                    Documentary  112646  Documentary        11\n",
       "114      Documentary|Biography|War  112373  Documentary        11\n",
       "126  Documentary|Biography|Mystery  110217  Documentary        11"
      ]
     },
     "execution_count": 42,
     "metadata": {},
     "output_type": "execute_result"
    }
   ],
   "source": [
    "#Genre4\n",
    "Documentary = df.loc[df[\"Feature1\"] == \"Documentary\"]\n",
    "print(Documentary.shape)\n",
    "Documentary.head()"
   ]
  },
  {
   "cell_type": "code",
   "execution_count": 43,
   "metadata": {},
   "outputs": [
    {
     "name": "stdout",
     "output_type": "stream",
     "text": [
      "(1971, 4)\n"
     ]
    },
    {
     "data": {
      "text/html": [
       "<div>\n",
       "<table border=\"1\" class=\"dataframe\">\n",
       "  <thead>\n",
       "    <tr style=\"text-align: right;\">\n",
       "      <th></th>\n",
       "      <th>Genre</th>\n",
       "      <th>imdbId</th>\n",
       "      <th>Feature1</th>\n",
       "      <th>Feature2</th>\n",
       "    </tr>\n",
       "  </thead>\n",
       "  <tbody>\n",
       "    <tr>\n",
       "      <th>148</th>\n",
       "      <td>Horror</td>\n",
       "      <td>112288</td>\n",
       "      <td>Horror</td>\n",
       "      <td>13</td>\n",
       "    </tr>\n",
       "    <tr>\n",
       "      <th>173</th>\n",
       "      <td>Horror|Mystery|Thriller</td>\n",
       "      <td>113690</td>\n",
       "      <td>Horror</td>\n",
       "      <td>13</td>\n",
       "    </tr>\n",
       "    <tr>\n",
       "      <th>179</th>\n",
       "      <td>Horror|Thriller</td>\n",
       "      <td>110604</td>\n",
       "      <td>Horror</td>\n",
       "      <td>13</td>\n",
       "    </tr>\n",
       "    <tr>\n",
       "      <th>326</th>\n",
       "      <td>Horror|Sci-Fi|Thriller</td>\n",
       "      <td>114852</td>\n",
       "      <td>Horror</td>\n",
       "      <td>13</td>\n",
       "    </tr>\n",
       "    <tr>\n",
       "      <th>391</th>\n",
       "      <td>Horror</td>\n",
       "      <td>113043</td>\n",
       "      <td>Horror</td>\n",
       "      <td>13</td>\n",
       "    </tr>\n",
       "  </tbody>\n",
       "</table>\n",
       "</div>"
      ],
      "text/plain": [
       "                       Genre  imdbId Feature1  Feature2\n",
       "148                   Horror  112288   Horror        13\n",
       "173  Horror|Mystery|Thriller  113690   Horror        13\n",
       "179          Horror|Thriller  110604   Horror        13\n",
       "326   Horror|Sci-Fi|Thriller  114852   Horror        13\n",
       "391                   Horror  113043   Horror        13"
      ]
     },
     "execution_count": 43,
     "metadata": {},
     "output_type": "execute_result"
    }
   ],
   "source": [
    "#Genre5\n",
    "Horror = df.loc[df[\"Feature1\"] == \"Horror\"] \n",
    "print(Horror.shape)\n",
    "Horror.head()"
   ]
  },
  {
   "cell_type": "code",
   "execution_count": 44,
   "metadata": {},
   "outputs": [
    {
     "name": "stdout",
     "output_type": "stream",
     "text": [
      "(1674, 4)\n"
     ]
    },
    {
     "data": {
      "text/html": [
       "<div>\n",
       "<table border=\"1\" class=\"dataframe\">\n",
       "  <thead>\n",
       "    <tr style=\"text-align: right;\">\n",
       "      <th></th>\n",
       "      <th>Genre</th>\n",
       "      <th>imdbId</th>\n",
       "      <th>Feature1</th>\n",
       "      <th>Feature2</th>\n",
       "    </tr>\n",
       "  </thead>\n",
       "  <tbody>\n",
       "    <tr>\n",
       "      <th>7</th>\n",
       "      <td>Adventure|Comedy|Drama</td>\n",
       "      <td>112302</td>\n",
       "      <td>Adventure</td>\n",
       "      <td>3</td>\n",
       "    </tr>\n",
       "    <tr>\n",
       "      <th>18</th>\n",
       "      <td>Adventure|Comedy|Crime</td>\n",
       "      <td>112281</td>\n",
       "      <td>Adventure</td>\n",
       "      <td>3</td>\n",
       "    </tr>\n",
       "    <tr>\n",
       "      <th>32</th>\n",
       "      <td>Adventure|Romance</td>\n",
       "      <td>114952</td>\n",
       "      <td>Adventure</td>\n",
       "      <td>3</td>\n",
       "    </tr>\n",
       "    <tr>\n",
       "      <th>36</th>\n",
       "      <td>Adventure|Drama|Family</td>\n",
       "      <td>112286</td>\n",
       "      <td>Adventure</td>\n",
       "      <td>3</td>\n",
       "    </tr>\n",
       "    <tr>\n",
       "      <th>55</th>\n",
       "      <td>Adventure|Comedy|Family</td>\n",
       "      <td>113541</td>\n",
       "      <td>Adventure</td>\n",
       "      <td>3</td>\n",
       "    </tr>\n",
       "  </tbody>\n",
       "</table>\n",
       "</div>"
      ],
      "text/plain": [
       "                      Genre  imdbId   Feature1  Feature2\n",
       "7    Adventure|Comedy|Drama  112302  Adventure         3\n",
       "18   Adventure|Comedy|Crime  112281  Adventure         3\n",
       "32        Adventure|Romance  114952  Adventure         3\n",
       "36   Adventure|Drama|Family  112286  Adventure         3\n",
       "55  Adventure|Comedy|Family  113541  Adventure         3"
      ]
     },
     "execution_count": 44,
     "metadata": {},
     "output_type": "execute_result"
    }
   ],
   "source": [
    "#Genre6\n",
    "Adventure = df.loc[df[\"Feature1\"] == \"Adventure\"]\n",
    "print(Adventure.shape)\n",
    "Adventure.head()"
   ]
  },
  {
   "cell_type": "code",
   "execution_count": 45,
   "metadata": {},
   "outputs": [
    {
     "name": "stdout",
     "output_type": "stream",
     "text": [
      "(1624, 4)\n"
     ]
    },
    {
     "data": {
      "text/html": [
       "<div>\n",
       "<table border=\"1\" class=\"dataframe\">\n",
       "  <thead>\n",
       "    <tr style=\"text-align: right;\">\n",
       "      <th></th>\n",
       "      <th>Genre</th>\n",
       "      <th>imdbId</th>\n",
       "      <th>Feature1</th>\n",
       "      <th>Feature2</th>\n",
       "    </tr>\n",
       "  </thead>\n",
       "  <tbody>\n",
       "    <tr>\n",
       "      <th>0</th>\n",
       "      <td>Animation|Adventure|Comedy</td>\n",
       "      <td>114709</td>\n",
       "      <td>Animation</td>\n",
       "      <td>0</td>\n",
       "    </tr>\n",
       "    <tr>\n",
       "      <th>12</th>\n",
       "      <td>Animation|Adventure|Drama</td>\n",
       "      <td>112453</td>\n",
       "      <td>Animation</td>\n",
       "      <td>0</td>\n",
       "    </tr>\n",
       "    <tr>\n",
       "      <th>47</th>\n",
       "      <td>Animation|Adventure|Drama</td>\n",
       "      <td>114148</td>\n",
       "      <td>Animation</td>\n",
       "      <td>0</td>\n",
       "    </tr>\n",
       "    <tr>\n",
       "      <th>234</th>\n",
       "      <td>Animation|Adventure|Comedy</td>\n",
       "      <td>113198</td>\n",
       "      <td>Animation</td>\n",
       "      <td>0</td>\n",
       "    </tr>\n",
       "    <tr>\n",
       "      <th>239</th>\n",
       "      <td>Animation|Action|Adventure</td>\n",
       "      <td>113234</td>\n",
       "      <td>Animation</td>\n",
       "      <td>0</td>\n",
       "    </tr>\n",
       "  </tbody>\n",
       "</table>\n",
       "</div>"
      ],
      "text/plain": [
       "                          Genre  imdbId   Feature1  Feature2\n",
       "0    Animation|Adventure|Comedy  114709  Animation         0\n",
       "12    Animation|Adventure|Drama  112453  Animation         0\n",
       "47    Animation|Adventure|Drama  114148  Animation         0\n",
       "234  Animation|Adventure|Comedy  113198  Animation         0\n",
       "239  Animation|Action|Adventure  113234  Animation         0"
      ]
     },
     "execution_count": 45,
     "metadata": {},
     "output_type": "execute_result"
    }
   ],
   "source": [
    "#Genre7\n",
    "Animation = df.loc[df[\"Feature1\"] == \"Animation\"]\n",
    "print(Animation.shape)\n",
    "Animation.head()"
   ]
  },
  {
   "cell_type": "code",
   "execution_count": 46,
   "metadata": {},
   "outputs": [
    {
     "name": "stdout",
     "output_type": "stream",
     "text": [
      "(1223, 4)\n"
     ]
    },
    {
     "data": {
      "text/html": [
       "<div>\n",
       "<table border=\"1\" class=\"dataframe\">\n",
       "  <thead>\n",
       "    <tr style=\"text-align: right;\">\n",
       "      <th></th>\n",
       "      <th>Genre</th>\n",
       "      <th>imdbId</th>\n",
       "      <th>Feature1</th>\n",
       "      <th>Feature2</th>\n",
       "    </tr>\n",
       "  </thead>\n",
       "  <tbody>\n",
       "    <tr>\n",
       "      <th>13</th>\n",
       "      <td>Biography|Drama|History</td>\n",
       "      <td>113987</td>\n",
       "      <td>Biography</td>\n",
       "      <td>4</td>\n",
       "    </tr>\n",
       "    <tr>\n",
       "      <th>30</th>\n",
       "      <td>Biography|Drama</td>\n",
       "      <td>112792</td>\n",
       "      <td>Biography</td>\n",
       "      <td>4</td>\n",
       "    </tr>\n",
       "    <tr>\n",
       "      <th>34</th>\n",
       "      <td>Biography|Drama|Romance</td>\n",
       "      <td>112637</td>\n",
       "      <td>Biography</td>\n",
       "      <td>4</td>\n",
       "    </tr>\n",
       "    <tr>\n",
       "      <th>42</th>\n",
       "      <td>Biography|Drama|History</td>\n",
       "      <td>114272</td>\n",
       "      <td>Biography</td>\n",
       "      <td>4</td>\n",
       "    </tr>\n",
       "    <tr>\n",
       "      <th>57</th>\n",
       "      <td>Biography|Comedy|Drama</td>\n",
       "      <td>110877</td>\n",
       "      <td>Biography</td>\n",
       "      <td>4</td>\n",
       "    </tr>\n",
       "  </tbody>\n",
       "</table>\n",
       "</div>"
      ],
      "text/plain": [
       "                      Genre  imdbId   Feature1  Feature2\n",
       "13  Biography|Drama|History  113987  Biography         4\n",
       "30          Biography|Drama  112792  Biography         4\n",
       "34  Biography|Drama|Romance  112637  Biography         4\n",
       "42  Biography|Drama|History  114272  Biography         4\n",
       "57   Biography|Comedy|Drama  110877  Biography         4"
      ]
     },
     "execution_count": 46,
     "metadata": {},
     "output_type": "execute_result"
    }
   ],
   "source": [
    "#Genre8\n",
    "Biography  = df.loc[df[\"Feature1\"] == \"Biography\"]\n",
    "print(Biography.shape)\n",
    "Biography.head()"
   ]
  },
  {
   "cell_type": "code",
   "execution_count": 47,
   "metadata": {},
   "outputs": [
    {
     "name": "stdout",
     "output_type": "stream",
     "text": [
      "(397, 4)\n"
     ]
    },
    {
     "data": {
      "text/html": [
       "<div>\n",
       "<table border=\"1\" class=\"dataframe\">\n",
       "  <thead>\n",
       "    <tr style=\"text-align: right;\">\n",
       "      <th></th>\n",
       "      <th>Genre</th>\n",
       "      <th>imdbId</th>\n",
       "      <th>Feature1</th>\n",
       "      <th>Feature2</th>\n",
       "    </tr>\n",
       "  </thead>\n",
       "  <tbody>\n",
       "    <tr>\n",
       "      <th>221</th>\n",
       "      <td>Thriller</td>\n",
       "      <td>112899</td>\n",
       "      <td>Thriller</td>\n",
       "      <td>14</td>\n",
       "    </tr>\n",
       "    <tr>\n",
       "      <th>548</th>\n",
       "      <td>Thriller|Crime|Drama</td>\n",
       "      <td>111488</td>\n",
       "      <td>Thriller</td>\n",
       "      <td>14</td>\n",
       "    </tr>\n",
       "    <tr>\n",
       "      <th>961</th>\n",
       "      <td>Thriller</td>\n",
       "      <td>117473</td>\n",
       "      <td>Thriller</td>\n",
       "      <td>14</td>\n",
       "    </tr>\n",
       "    <tr>\n",
       "      <th>1220</th>\n",
       "      <td>Thriller</td>\n",
       "      <td>82269</td>\n",
       "      <td>Thriller</td>\n",
       "      <td>14</td>\n",
       "    </tr>\n",
       "    <tr>\n",
       "      <th>1626</th>\n",
       "      <td>Thriller</td>\n",
       "      <td>130073</td>\n",
       "      <td>Thriller</td>\n",
       "      <td>14</td>\n",
       "    </tr>\n",
       "  </tbody>\n",
       "</table>\n",
       "</div>"
      ],
      "text/plain": [
       "                     Genre  imdbId  Feature1  Feature2\n",
       "221               Thriller  112899  Thriller        14\n",
       "548   Thriller|Crime|Drama  111488  Thriller        14\n",
       "961               Thriller  117473  Thriller        14\n",
       "1220              Thriller   82269  Thriller        14\n",
       "1626              Thriller  130073  Thriller        14"
      ]
     },
     "execution_count": 47,
     "metadata": {},
     "output_type": "execute_result"
    }
   ],
   "source": [
    "#Genre9\n",
    "Thriller = df.loc[df[\"Feature1\"] == \"Thriller\"]\n",
    "print(Thriller.shape)\n",
    "Thriller.head()"
   ]
  },
  {
   "cell_type": "code",
   "execution_count": 48,
   "metadata": {},
   "outputs": [
    {
     "name": "stdout",
     "output_type": "stream",
     "text": [
      "(392, 4)\n"
     ]
    },
    {
     "data": {
      "text/html": [
       "<div>\n",
       "<table border=\"1\" class=\"dataframe\">\n",
       "  <thead>\n",
       "    <tr style=\"text-align: right;\">\n",
       "      <th></th>\n",
       "      <th>Genre</th>\n",
       "      <th>imdbId</th>\n",
       "      <th>Feature1</th>\n",
       "      <th>Feature2</th>\n",
       "    </tr>\n",
       "  </thead>\n",
       "  <tbody>\n",
       "    <tr>\n",
       "      <th>665</th>\n",
       "      <td>Short|Drama|Thriller</td>\n",
       "      <td>108181</td>\n",
       "      <td>Short</td>\n",
       "      <td>16</td>\n",
       "    </tr>\n",
       "    <tr>\n",
       "      <th>1680</th>\n",
       "      <td>Short</td>\n",
       "      <td>133090</td>\n",
       "      <td>Short</td>\n",
       "      <td>16</td>\n",
       "    </tr>\n",
       "    <tr>\n",
       "      <th>3193</th>\n",
       "      <td>Short|Comedy|Drama</td>\n",
       "      <td>9018</td>\n",
       "      <td>Short</td>\n",
       "      <td>16</td>\n",
       "    </tr>\n",
       "    <tr>\n",
       "      <th>4336</th>\n",
       "      <td>Short|Adventure|Comedy</td>\n",
       "      <td>159423</td>\n",
       "      <td>Short</td>\n",
       "      <td>16</td>\n",
       "    </tr>\n",
       "    <tr>\n",
       "      <th>4732</th>\n",
       "      <td>Short|Documentary</td>\n",
       "      <td>84043</td>\n",
       "      <td>Short</td>\n",
       "      <td>16</td>\n",
       "    </tr>\n",
       "  </tbody>\n",
       "</table>\n",
       "</div>"
      ],
      "text/plain": [
       "                       Genre  imdbId Feature1  Feature2\n",
       "665     Short|Drama|Thriller  108181    Short        16\n",
       "1680                   Short  133090    Short        16\n",
       "3193      Short|Comedy|Drama    9018    Short        16\n",
       "4336  Short|Adventure|Comedy  159423    Short        16\n",
       "4732       Short|Documentary   84043    Short        16"
      ]
     },
     "execution_count": 48,
     "metadata": {},
     "output_type": "execute_result"
    }
   ],
   "source": [
    "#Genre10\n",
    "Short = df.loc[df[\"Feature1\"] == \"Short\"]\n",
    "print(Short.shape)\n",
    "Short.head()"
   ]
  },
  {
   "cell_type": "code",
   "execution_count": 49,
   "metadata": {},
   "outputs": [
    {
     "name": "stdout",
     "output_type": "stream",
     "text": [
      "(315, 4)\n"
     ]
    },
    {
     "data": {
      "text/html": [
       "<div>\n",
       "<table border=\"1\" class=\"dataframe\">\n",
       "  <thead>\n",
       "    <tr style=\"text-align: right;\">\n",
       "      <th></th>\n",
       "      <th>Genre</th>\n",
       "      <th>imdbId</th>\n",
       "      <th>Feature1</th>\n",
       "      <th>Feature2</th>\n",
       "    </tr>\n",
       "  </thead>\n",
       "  <tbody>\n",
       "    <tr>\n",
       "      <th>755</th>\n",
       "      <td>Western</td>\n",
       "      <td>114122</td>\n",
       "      <td>Western</td>\n",
       "      <td>17</td>\n",
       "    </tr>\n",
       "    <tr>\n",
       "      <th>1142</th>\n",
       "      <td>Western</td>\n",
       "      <td>120121</td>\n",
       "      <td>Western</td>\n",
       "      <td>17</td>\n",
       "    </tr>\n",
       "    <tr>\n",
       "      <th>1160</th>\n",
       "      <td>Western</td>\n",
       "      <td>60196</td>\n",
       "      <td>Western</td>\n",
       "      <td>17</td>\n",
       "    </tr>\n",
       "    <tr>\n",
       "      <th>1167</th>\n",
       "      <td>Western</td>\n",
       "      <td>64116</td>\n",
       "      <td>Western</td>\n",
       "      <td>17</td>\n",
       "    </tr>\n",
       "    <tr>\n",
       "      <th>1337</th>\n",
       "      <td>Western</td>\n",
       "      <td>52287</td>\n",
       "      <td>Western</td>\n",
       "      <td>17</td>\n",
       "    </tr>\n",
       "  </tbody>\n",
       "</table>\n",
       "</div>"
      ],
      "text/plain": [
       "        Genre  imdbId Feature1  Feature2\n",
       "755   Western  114122  Western        17\n",
       "1142  Western  120121  Western        17\n",
       "1160  Western   60196  Western        17\n",
       "1167  Western   64116  Western        17\n",
       "1337  Western   52287  Western        17"
      ]
     },
     "execution_count": 49,
     "metadata": {},
     "output_type": "execute_result"
    }
   ],
   "source": [
    "#Genre11\n",
    "Western = df.loc[df[\"Feature1\"] == \"Western\"]\n",
    "print(Western.shape)\n",
    "Western.head()"
   ]
  },
  {
   "cell_type": "code",
   "execution_count": 50,
   "metadata": {},
   "outputs": [
    {
     "name": "stdout",
     "output_type": "stream",
     "text": [
      "(272, 4)\n"
     ]
    },
    {
     "data": {
      "text/html": [
       "<div>\n",
       "<table border=\"1\" class=\"dataframe\">\n",
       "  <thead>\n",
       "    <tr style=\"text-align: right;\">\n",
       "      <th></th>\n",
       "      <th>Genre</th>\n",
       "      <th>imdbId</th>\n",
       "      <th>Feature1</th>\n",
       "      <th>Feature2</th>\n",
       "    </tr>\n",
       "  </thead>\n",
       "  <tbody>\n",
       "    <tr>\n",
       "      <th>28</th>\n",
       "      <td>Fantasy|Sci-Fi</td>\n",
       "      <td>112682</td>\n",
       "      <td>Fantasy</td>\n",
       "      <td>7</td>\n",
       "    </tr>\n",
       "    <tr>\n",
       "      <th>235</th>\n",
       "      <td>Fantasy|Horror|Thriller</td>\n",
       "      <td>113303</td>\n",
       "      <td>Fantasy</td>\n",
       "      <td>7</td>\n",
       "    </tr>\n",
       "    <tr>\n",
       "      <th>360</th>\n",
       "      <td>Fantasy|Horror|Mystery</td>\n",
       "      <td>111686</td>\n",
       "      <td>Fantasy</td>\n",
       "      <td>7</td>\n",
       "    </tr>\n",
       "    <tr>\n",
       "      <th>401</th>\n",
       "      <td>Fantasy|Horror|Mystery</td>\n",
       "      <td>113409</td>\n",
       "      <td>Fantasy</td>\n",
       "      <td>7</td>\n",
       "    </tr>\n",
       "    <tr>\n",
       "      <th>723</th>\n",
       "      <td>Fantasy|Horror</td>\n",
       "      <td>117894</td>\n",
       "      <td>Fantasy</td>\n",
       "      <td>7</td>\n",
       "    </tr>\n",
       "  </tbody>\n",
       "</table>\n",
       "</div>"
      ],
      "text/plain": [
       "                       Genre  imdbId Feature1  Feature2\n",
       "28            Fantasy|Sci-Fi  112682  Fantasy         7\n",
       "235  Fantasy|Horror|Thriller  113303  Fantasy         7\n",
       "360   Fantasy|Horror|Mystery  111686  Fantasy         7\n",
       "401   Fantasy|Horror|Mystery  113409  Fantasy         7\n",
       "723           Fantasy|Horror  117894  Fantasy         7"
      ]
     },
     "execution_count": 50,
     "metadata": {},
     "output_type": "execute_result"
    }
   ],
   "source": [
    "#Genre12\n",
    "Fantasy = df.loc[df[\"Feature1\"] == \"Fantasy\"]\n",
    "print(Fantasy.shape)\n",
    "Fantasy.head()"
   ]
  },
  {
   "cell_type": "code",
   "execution_count": 51,
   "metadata": {},
   "outputs": [
    {
     "name": "stdout",
     "output_type": "stream",
     "text": [
      "(256, 4)\n"
     ]
    },
    {
     "data": {
      "text/html": [
       "<div>\n",
       "<table border=\"1\" class=\"dataframe\">\n",
       "  <thead>\n",
       "    <tr style=\"text-align: right;\">\n",
       "      <th></th>\n",
       "      <th>Genre</th>\n",
       "      <th>imdbId</th>\n",
       "      <th>Feature1</th>\n",
       "      <th>Feature2</th>\n",
       "    </tr>\n",
       "  </thead>\n",
       "  <tbody>\n",
       "    <tr>\n",
       "      <th>31</th>\n",
       "      <td>Mystery|Sci-Fi|Thriller</td>\n",
       "      <td>114746</td>\n",
       "      <td>Mystery</td>\n",
       "      <td>8</td>\n",
       "    </tr>\n",
       "    <tr>\n",
       "      <th>430</th>\n",
       "      <td>Mystery|Romance|Thriller</td>\n",
       "      <td>109456</td>\n",
       "      <td>Mystery</td>\n",
       "      <td>8</td>\n",
       "    </tr>\n",
       "    <tr>\n",
       "      <th>688</th>\n",
       "      <td>Mystery|Drama|Romance</td>\n",
       "      <td>115742</td>\n",
       "      <td>Mystery</td>\n",
       "      <td>8</td>\n",
       "    </tr>\n",
       "    <tr>\n",
       "      <th>873</th>\n",
       "      <td>Mystery|Romance|Thriller</td>\n",
       "      <td>52357</td>\n",
       "      <td>Mystery</td>\n",
       "      <td>8</td>\n",
       "    </tr>\n",
       "    <tr>\n",
       "      <th>874</th>\n",
       "      <td>Mystery|Thriller</td>\n",
       "      <td>47396</td>\n",
       "      <td>Mystery</td>\n",
       "      <td>8</td>\n",
       "    </tr>\n",
       "  </tbody>\n",
       "</table>\n",
       "</div>"
      ],
      "text/plain": [
       "                        Genre  imdbId Feature1  Feature2\n",
       "31    Mystery|Sci-Fi|Thriller  114746  Mystery         8\n",
       "430  Mystery|Romance|Thriller  109456  Mystery         8\n",
       "688     Mystery|Drama|Romance  115742  Mystery         8\n",
       "873  Mystery|Romance|Thriller   52357  Mystery         8\n",
       "874          Mystery|Thriller   47396  Mystery         8"
      ]
     },
     "execution_count": 51,
     "metadata": {},
     "output_type": "execute_result"
    }
   ],
   "source": [
    "#Genre13\n",
    "Mystery = df.loc[df[\"Feature1\"] == \"Mystery\"]\n",
    "print(Mystery.shape)\n",
    "Mystery.head()"
   ]
  },
  {
   "cell_type": "code",
   "execution_count": 52,
   "metadata": {},
   "outputs": [
    {
     "name": "stdout",
     "output_type": "stream",
     "text": [
      "(2546, 4)\n"
     ]
    },
    {
     "data": {
      "text/html": [
       "<div>\n",
       "<table border=\"1\" class=\"dataframe\">\n",
       "  <thead>\n",
       "    <tr style=\"text-align: right;\">\n",
       "      <th></th>\n",
       "      <th>Genre</th>\n",
       "      <th>imdbId</th>\n",
       "      <th>Feature1</th>\n",
       "      <th>Feature2</th>\n",
       "    </tr>\n",
       "  </thead>\n",
       "  <tbody>\n",
       "    <tr>\n",
       "      <th>15</th>\n",
       "      <td>Crime|Drama</td>\n",
       "      <td>112641</td>\n",
       "      <td>Crime</td>\n",
       "      <td>5</td>\n",
       "    </tr>\n",
       "    <tr>\n",
       "      <th>21</th>\n",
       "      <td>Crime|Drama|Mystery</td>\n",
       "      <td>112722</td>\n",
       "      <td>Crime</td>\n",
       "      <td>5</td>\n",
       "    </tr>\n",
       "    <tr>\n",
       "      <th>29</th>\n",
       "      <td>Crime|Drama|Romance</td>\n",
       "      <td>115012</td>\n",
       "      <td>Crime</td>\n",
       "      <td>5</td>\n",
       "    </tr>\n",
       "    <tr>\n",
       "      <th>35</th>\n",
       "      <td>Crime|Drama</td>\n",
       "      <td>112818</td>\n",
       "      <td>Crime</td>\n",
       "      <td>5</td>\n",
       "    </tr>\n",
       "    <tr>\n",
       "      <th>46</th>\n",
       "      <td>Crime|Drama|Mystery</td>\n",
       "      <td>114369</td>\n",
       "      <td>Crime</td>\n",
       "      <td>5</td>\n",
       "    </tr>\n",
       "  </tbody>\n",
       "</table>\n",
       "</div>"
      ],
      "text/plain": [
       "                  Genre  imdbId Feature1  Feature2\n",
       "15          Crime|Drama  112641    Crime         5\n",
       "21  Crime|Drama|Mystery  112722    Crime         5\n",
       "29  Crime|Drama|Romance  115012    Crime         5\n",
       "35          Crime|Drama  112818    Crime         5\n",
       "46  Crime|Drama|Mystery  114369    Crime         5"
      ]
     },
     "execution_count": 52,
     "metadata": {},
     "output_type": "execute_result"
    }
   ],
   "source": [
    "#Genre14\n",
    "Crime = df.loc[df[\"Feature1\"] == \"Crime\"]\n",
    "print(Crime.shape)\n",
    "Crime.head()"
   ]
  },
  {
   "cell_type": "code",
   "execution_count": 53,
   "metadata": {},
   "outputs": [
    {
     "name": "stdout",
     "output_type": "stream",
     "text": [
      "(243, 4)\n"
     ]
    },
    {
     "data": {
      "text/html": [
       "<div>\n",
       "<table border=\"1\" class=\"dataframe\">\n",
       "  <thead>\n",
       "    <tr style=\"text-align: right;\">\n",
       "      <th></th>\n",
       "      <th>Genre</th>\n",
       "      <th>imdbId</th>\n",
       "      <th>Feature1</th>\n",
       "      <th>Feature2</th>\n",
       "    </tr>\n",
       "  </thead>\n",
       "  <tbody>\n",
       "    <tr>\n",
       "      <th>142</th>\n",
       "      <td>Family|Adventure|Drama</td>\n",
       "      <td>112342</td>\n",
       "      <td>Family</td>\n",
       "      <td>12</td>\n",
       "    </tr>\n",
       "    <tr>\n",
       "      <th>272</th>\n",
       "      <td>Family|Fantasy</td>\n",
       "      <td>110527</td>\n",
       "      <td>Family</td>\n",
       "      <td>12</td>\n",
       "    </tr>\n",
       "    <tr>\n",
       "      <th>478</th>\n",
       "      <td>Family|Adventure</td>\n",
       "      <td>110305</td>\n",
       "      <td>Family</td>\n",
       "      <td>12</td>\n",
       "    </tr>\n",
       "    <tr>\n",
       "      <th>696</th>\n",
       "      <td>Family|Adventure</td>\n",
       "      <td>116322</td>\n",
       "      <td>Family</td>\n",
       "      <td>12</td>\n",
       "    </tr>\n",
       "    <tr>\n",
       "      <th>852</th>\n",
       "      <td>Family|Comedy</td>\n",
       "      <td>116311</td>\n",
       "      <td>Family</td>\n",
       "      <td>12</td>\n",
       "    </tr>\n",
       "  </tbody>\n",
       "</table>\n",
       "</div>"
      ],
      "text/plain": [
       "                      Genre  imdbId Feature1  Feature2\n",
       "142  Family|Adventure|Drama  112342   Family        12\n",
       "272          Family|Fantasy  110527   Family        12\n",
       "478        Family|Adventure  110305   Family        12\n",
       "696        Family|Adventure  116322   Family        12\n",
       "852           Family|Comedy  116311   Family        12"
      ]
     },
     "execution_count": 53,
     "metadata": {},
     "output_type": "execute_result"
    }
   ],
   "source": [
    "#Genre15\n",
    "Family = df.loc[df[\"Feature1\"] == \"Family\"]\n",
    "print(Family.shape)\n",
    "Family.head()"
   ]
  },
  {
   "cell_type": "code",
   "execution_count": 54,
   "metadata": {},
   "outputs": [
    {
     "name": "stdout",
     "output_type": "stream",
     "text": [
      "(203, 4)\n"
     ]
    },
    {
     "data": {
      "text/html": [
       "<div>\n",
       "<table border=\"1\" class=\"dataframe\">\n",
       "  <thead>\n",
       "    <tr style=\"text-align: right;\">\n",
       "      <th></th>\n",
       "      <th>Genre</th>\n",
       "      <th>imdbId</th>\n",
       "      <th>Feature1</th>\n",
       "      <th>Feature2</th>\n",
       "    </tr>\n",
       "  </thead>\n",
       "  <tbody>\n",
       "    <tr>\n",
       "      <th>73</th>\n",
       "      <td>Romance|Drama</td>\n",
       "      <td>115644</td>\n",
       "      <td>Romance</td>\n",
       "      <td>9</td>\n",
       "    </tr>\n",
       "    <tr>\n",
       "      <th>410</th>\n",
       "      <td>Romance|Western</td>\n",
       "      <td>109198</td>\n",
       "      <td>Romance</td>\n",
       "      <td>9</td>\n",
       "    </tr>\n",
       "    <tr>\n",
       "      <th>470</th>\n",
       "      <td>Romance|Comedy|Drama</td>\n",
       "      <td>110137</td>\n",
       "      <td>Romance</td>\n",
       "      <td>9</td>\n",
       "    </tr>\n",
       "    <tr>\n",
       "      <th>675</th>\n",
       "      <td>Romance|Drama</td>\n",
       "      <td>111613</td>\n",
       "      <td>Romance</td>\n",
       "      <td>9</td>\n",
       "    </tr>\n",
       "    <tr>\n",
       "      <th>757</th>\n",
       "      <td>Romance|Comedy</td>\n",
       "      <td>118523</td>\n",
       "      <td>Romance</td>\n",
       "      <td>9</td>\n",
       "    </tr>\n",
       "  </tbody>\n",
       "</table>\n",
       "</div>"
      ],
      "text/plain": [
       "                    Genre  imdbId Feature1  Feature2\n",
       "73          Romance|Drama  115644  Romance         9\n",
       "410       Romance|Western  109198  Romance         9\n",
       "470  Romance|Comedy|Drama  110137  Romance         9\n",
       "675         Romance|Drama  111613  Romance         9\n",
       "757        Romance|Comedy  118523  Romance         9"
      ]
     },
     "execution_count": 54,
     "metadata": {},
     "output_type": "execute_result"
    }
   ],
   "source": [
    "#Genre16\n",
    "Romance = df.loc[df[\"Feature1\"] == \"Romance\"]\n",
    "print(Romance.shape)\n",
    "Romance.head()"
   ]
  },
  {
   "cell_type": "code",
   "execution_count": 55,
   "metadata": {},
   "outputs": [
    {
     "name": "stdout",
     "output_type": "stream",
     "text": [
      "(192, 4)\n"
     ]
    },
    {
     "data": {
      "text/html": [
       "<div>\n",
       "<table border=\"1\" class=\"dataframe\">\n",
       "  <thead>\n",
       "    <tr style=\"text-align: right;\">\n",
       "      <th></th>\n",
       "      <th>Genre</th>\n",
       "      <th>imdbId</th>\n",
       "      <th>Feature1</th>\n",
       "      <th>Feature2</th>\n",
       "    </tr>\n",
       "  </thead>\n",
       "  <tbody>\n",
       "    <tr>\n",
       "      <th>75</th>\n",
       "      <td>Sci-Fi|Thriller</td>\n",
       "      <td>114367</td>\n",
       "      <td>Sci-Fi</td>\n",
       "      <td>10</td>\n",
       "    </tr>\n",
       "    <tr>\n",
       "      <th>535</th>\n",
       "      <td>Sci-Fi|Thriller</td>\n",
       "      <td>83658</td>\n",
       "      <td>Sci-Fi</td>\n",
       "      <td>10</td>\n",
       "    </tr>\n",
       "    <tr>\n",
       "      <th>729</th>\n",
       "      <td>Sci-Fi|Thriller</td>\n",
       "      <td>115571</td>\n",
       "      <td>Sci-Fi</td>\n",
       "      <td>10</td>\n",
       "    </tr>\n",
       "    <tr>\n",
       "      <th>1636</th>\n",
       "      <td>Sci-Fi</td>\n",
       "      <td>128755</td>\n",
       "      <td>Sci-Fi</td>\n",
       "      <td>10</td>\n",
       "    </tr>\n",
       "    <tr>\n",
       "      <th>2297</th>\n",
       "      <td>Sci-Fi</td>\n",
       "      <td>88933</td>\n",
       "      <td>Sci-Fi</td>\n",
       "      <td>10</td>\n",
       "    </tr>\n",
       "  </tbody>\n",
       "</table>\n",
       "</div>"
      ],
      "text/plain": [
       "                Genre  imdbId Feature1  Feature2\n",
       "75    Sci-Fi|Thriller  114367   Sci-Fi        10\n",
       "535   Sci-Fi|Thriller   83658   Sci-Fi        10\n",
       "729   Sci-Fi|Thriller  115571   Sci-Fi        10\n",
       "1636           Sci-Fi  128755   Sci-Fi        10\n",
       "2297           Sci-Fi   88933   Sci-Fi        10"
      ]
     },
     "execution_count": 55,
     "metadata": {},
     "output_type": "execute_result"
    }
   ],
   "source": [
    "#Genre17\n",
    "Sci_Fi = df.loc[df[\"Feature1\"] == \"Sci-Fi\"]\n",
    "print(Sci_Fi.shape)\n",
    "Sci_Fi.head()"
   ]
  },
  {
   "cell_type": "code",
   "execution_count": 56,
   "metadata": {},
   "outputs": [
    {
     "name": "stdout",
     "output_type": "stream",
     "text": [
      "(115, 4)\n"
     ]
    },
    {
     "data": {
      "text/html": [
       "<div>\n",
       "<table border=\"1\" class=\"dataframe\">\n",
       "  <thead>\n",
       "    <tr style=\"text-align: right;\">\n",
       "      <th></th>\n",
       "      <th>Genre</th>\n",
       "      <th>imdbId</th>\n",
       "      <th>Feature1</th>\n",
       "      <th>Feature2</th>\n",
       "    </tr>\n",
       "  </thead>\n",
       "  <tbody>\n",
       "    <tr>\n",
       "      <th>647</th>\n",
       "      <td>Musical</td>\n",
       "      <td>112509</td>\n",
       "      <td>Musical</td>\n",
       "      <td>15</td>\n",
       "    </tr>\n",
       "    <tr>\n",
       "      <th>1331</th>\n",
       "      <td>Musical|Romance</td>\n",
       "      <td>77631</td>\n",
       "      <td>Musical</td>\n",
       "      <td>15</td>\n",
       "    </tr>\n",
       "    <tr>\n",
       "      <th>2829</th>\n",
       "      <td>Musical|Romance|War</td>\n",
       "      <td>52225</td>\n",
       "      <td>Musical</td>\n",
       "      <td>15</td>\n",
       "    </tr>\n",
       "    <tr>\n",
       "      <th>4070</th>\n",
       "      <td>Musical|Romance</td>\n",
       "      <td>113026</td>\n",
       "      <td>Musical</td>\n",
       "      <td>15</td>\n",
       "    </tr>\n",
       "    <tr>\n",
       "      <th>4651</th>\n",
       "      <td>Musical|Comedy|Sci-Fi</td>\n",
       "      <td>243759</td>\n",
       "      <td>Musical</td>\n",
       "      <td>15</td>\n",
       "    </tr>\n",
       "  </tbody>\n",
       "</table>\n",
       "</div>"
      ],
      "text/plain": [
       "                      Genre  imdbId Feature1  Feature2\n",
       "647                 Musical  112509  Musical        15\n",
       "1331        Musical|Romance   77631  Musical        15\n",
       "2829    Musical|Romance|War   52225  Musical        15\n",
       "4070        Musical|Romance  113026  Musical        15\n",
       "4651  Musical|Comedy|Sci-Fi  243759  Musical        15"
      ]
     },
     "execution_count": 56,
     "metadata": {},
     "output_type": "execute_result"
    }
   ],
   "source": [
    "#Genre18\n",
    "Musical = df.loc[df[\"Feature1\"] == \"Musical\"]\n",
    "print(Musical.shape)\n",
    "Musical.head()"
   ]
  },
  {
   "cell_type": "markdown",
   "metadata": {},
   "source": [
    "Create a subset of dataset by selecting few genre categories based on requirement. For example if you want to generate a subset of balanced dataset where each genre has number of movie posters equal to maxcount. All the selected genre categories are concatenated together and then shuffled randomly.  "
   ]
  },
  {
   "cell_type": "code",
   "execution_count": 58,
   "metadata": {},
   "outputs": [
    {
     "name": "stdout",
     "output_type": "stream",
     "text": [
      "(12800, 4)\n"
     ]
    },
    {
     "data": {
      "text/html": [
       "<div>\n",
       "<table border=\"1\" class=\"dataframe\">\n",
       "  <thead>\n",
       "    <tr style=\"text-align: right;\">\n",
       "      <th></th>\n",
       "      <th>Genre</th>\n",
       "      <th>imdbId</th>\n",
       "      <th>Feature1</th>\n",
       "      <th>Feature2</th>\n",
       "    </tr>\n",
       "  </thead>\n",
       "  <tbody>\n",
       "    <tr>\n",
       "      <th>0</th>\n",
       "      <td>Drama|Romance</td>\n",
       "      <td>84434</td>\n",
       "      <td>Drama</td>\n",
       "      <td>6</td>\n",
       "    </tr>\n",
       "    <tr>\n",
       "      <th>1</th>\n",
       "      <td>Action|Drama|War</td>\n",
       "      <td>34742</td>\n",
       "      <td>Action</td>\n",
       "      <td>1</td>\n",
       "    </tr>\n",
       "    <tr>\n",
       "      <th>2</th>\n",
       "      <td>Drama</td>\n",
       "      <td>105660</td>\n",
       "      <td>Drama</td>\n",
       "      <td>6</td>\n",
       "    </tr>\n",
       "    <tr>\n",
       "      <th>3</th>\n",
       "      <td>Crime|Drama|Romance</td>\n",
       "      <td>64816</td>\n",
       "      <td>Crime</td>\n",
       "      <td>5</td>\n",
       "    </tr>\n",
       "    <tr>\n",
       "      <th>4</th>\n",
       "      <td>Horror|Mystery</td>\n",
       "      <td>92676</td>\n",
       "      <td>Horror</td>\n",
       "      <td>13</td>\n",
       "    </tr>\n",
       "  </tbody>\n",
       "</table>\n",
       "</div>"
      ],
      "text/plain": [
       "                 Genre  imdbId Feature1  Feature2\n",
       "0        Drama|Romance   84434    Drama         6\n",
       "1     Action|Drama|War   34742   Action         1\n",
       "2                Drama  105660    Drama         6\n",
       "3  Crime|Drama|Romance   64816    Crime         5\n",
       "4       Horror|Mystery   92676   Horror        13"
      ]
     },
     "execution_count": 58,
     "metadata": {},
     "output_type": "execute_result"
    }
   ],
   "source": [
    "topGenre = [\"Drama\",\"Comedy\",\"Action\",\"Documentary\",\"Crime\",\"Horror\",\"Adventure\",\"Animation\"]\n",
    "maxCount = 1600\n",
    "topGenreMovies = pd.concat([Drama[:maxCount], Comedy[:maxCount],Action[:maxCount],Documentary[:maxCount], Crime[:maxCount],Horror[:maxCount],Adventure[:maxCount], Animation[:maxCount]], ignore_index=True)\n",
    "import numpy as np\n",
    "topGenreMovies = topGenreMovies.reindex(np.random.permutation(topGenreMovies.index))\n",
    "topGenreMovies = topGenreMovies.reset_index(drop=True)\n",
    "print topGenreMovies.shape\n",
    "topGenreMovies.head()"
   ]
  },
  {
   "cell_type": "code",
   "execution_count": 25,
   "metadata": {
    "collapsed": true
   },
   "outputs": [],
   "source": [
    "import numpy as np\n",
    "def getfeatures():\n",
    "    temp = topGenreMovies.Feature1.unique()\n",
    "    features ={x:i for i,x in enumerate(temp)}\n",
    "    return features\n",
    "\n",
    "def generateLabel(item):\n",
    "    features = getfeatures()\n",
    "    return features[item[0]]"
   ]
  },
  {
   "cell_type": "markdown",
   "metadata": {},
   "source": [
    "Reassign the genre labels to each genre present in the dataset. "
   ]
  },
  {
   "cell_type": "code",
   "execution_count": 26,
   "metadata": {},
   "outputs": [
    {
     "name": "stdout",
     "output_type": "stream",
     "text": [
      "{'Horror': 1, 'Crime': 2, 'Drama': 6, 'Animation': 0, 'Adventure': 4, 'Action': 5, 'Comedy': 7, 'Documentary': 3}\n",
      "8\n"
     ]
    },
    {
     "data": {
      "text/html": [
       "<div>\n",
       "<table border=\"1\" class=\"dataframe\">\n",
       "  <thead>\n",
       "    <tr style=\"text-align: right;\">\n",
       "      <th></th>\n",
       "      <th>Genre</th>\n",
       "      <th>imdbId</th>\n",
       "      <th>Feature1</th>\n",
       "      <th>Feature2</th>\n",
       "    </tr>\n",
       "  </thead>\n",
       "  <tbody>\n",
       "    <tr>\n",
       "      <th>0</th>\n",
       "      <td>Animation|Adventure|Family</td>\n",
       "      <td>1679681</td>\n",
       "      <td>Animation</td>\n",
       "      <td>0</td>\n",
       "    </tr>\n",
       "    <tr>\n",
       "      <th>1</th>\n",
       "      <td>Horror|Drama</td>\n",
       "      <td>195165</td>\n",
       "      <td>Horror</td>\n",
       "      <td>1</td>\n",
       "    </tr>\n",
       "    <tr>\n",
       "      <th>2</th>\n",
       "      <td>Crime|Drama|Thriller</td>\n",
       "      <td>106856</td>\n",
       "      <td>Crime</td>\n",
       "      <td>2</td>\n",
       "    </tr>\n",
       "    <tr>\n",
       "      <th>3</th>\n",
       "      <td>Documentary|Biography</td>\n",
       "      <td>473434</td>\n",
       "      <td>Documentary</td>\n",
       "      <td>3</td>\n",
       "    </tr>\n",
       "    <tr>\n",
       "      <th>4</th>\n",
       "      <td>Adventure|Drama|War</td>\n",
       "      <td>47376</td>\n",
       "      <td>Adventure</td>\n",
       "      <td>4</td>\n",
       "    </tr>\n",
       "  </tbody>\n",
       "</table>\n",
       "</div>"
      ],
      "text/plain": [
       "                        Genre   imdbId     Feature1  Feature2\n",
       "0  Animation|Adventure|Family  1679681    Animation         0\n",
       "1                Horror|Drama   195165       Horror         1\n",
       "2        Crime|Drama|Thriller   106856        Crime         2\n",
       "3       Documentary|Biography   473434  Documentary         3\n",
       "4         Adventure|Drama|War    47376    Adventure         4"
      ]
     },
     "execution_count": 26,
     "metadata": {},
     "output_type": "execute_result"
    }
   ],
   "source": [
    "#del topGenreMovies.Feature2\n",
    "features = getfeatures()\n",
    "print features\n",
    "print len(features)\n",
    "topGenreMovies['Feature2'] = topGenreMovies.iloc[:,2:3].apply(generateLabel, axis=1)\n",
    "topGenreMovies.head()"
   ]
  },
  {
   "cell_type": "markdown",
   "metadata": {},
   "source": [
    "Save the dataframe in the csv file."
   ]
  },
  {
   "cell_type": "code",
   "execution_count": 52,
   "metadata": {
    "collapsed": true
   },
   "outputs": [],
   "source": [
    "topGenreMovies.to_csv(\"./../Dataset/BalancedTop8FullGenre.csv\",index = False,encoding='utf-8')"
   ]
  },
  {
   "cell_type": "code",
   "execution_count": 27,
   "metadata": {},
   "outputs": [
    {
     "name": "stdout",
     "output_type": "stream",
     "text": [
      "(13800, 4)\n"
     ]
    },
    {
     "data": {
      "text/html": [
       "<div>\n",
       "<table border=\"1\" class=\"dataframe\">\n",
       "  <thead>\n",
       "    <tr style=\"text-align: right;\">\n",
       "      <th></th>\n",
       "      <th>Genre</th>\n",
       "      <th>imdbId</th>\n",
       "      <th>Feature1</th>\n",
       "      <th>Feature2</th>\n",
       "    </tr>\n",
       "  </thead>\n",
       "  <tbody>\n",
       "    <tr>\n",
       "      <th>0</th>\n",
       "      <td>Drama|History|War</td>\n",
       "      <td>62673</td>\n",
       "      <td>Drama</td>\n",
       "      <td>6</td>\n",
       "    </tr>\n",
       "    <tr>\n",
       "      <th>1</th>\n",
       "      <td>Action|Crime|Drama</td>\n",
       "      <td>1071880</td>\n",
       "      <td>Action</td>\n",
       "      <td>1</td>\n",
       "    </tr>\n",
       "    <tr>\n",
       "      <th>2</th>\n",
       "      <td>Action|Sci-Fi</td>\n",
       "      <td>102800</td>\n",
       "      <td>Action</td>\n",
       "      <td>1</td>\n",
       "    </tr>\n",
       "    <tr>\n",
       "      <th>3</th>\n",
       "      <td>Comedy</td>\n",
       "      <td>54615</td>\n",
       "      <td>Comedy</td>\n",
       "      <td>2</td>\n",
       "    </tr>\n",
       "    <tr>\n",
       "      <th>4</th>\n",
       "      <td>Action|Comedy|Sci-Fi</td>\n",
       "      <td>3864024</td>\n",
       "      <td>Action</td>\n",
       "      <td>1</td>\n",
       "    </tr>\n",
       "  </tbody>\n",
       "</table>\n",
       "</div>"
      ],
      "text/plain": [
       "                  Genre   imdbId Feature1  Feature2\n",
       "0     Drama|History|War    62673    Drama         6\n",
       "1    Action|Crime|Drama  1071880   Action         1\n",
       "2         Action|Sci-Fi   102800   Action         1\n",
       "3                Comedy    54615   Comedy         2\n",
       "4  Action|Comedy|Sci-Fi  3864024   Action         1"
      ]
     },
     "execution_count": 27,
     "metadata": {},
     "output_type": "execute_result"
    }
   ],
   "source": [
    "top3Genre = [\"Drama\",\"Comedy\",\"Action\"]\n",
    "maxCount = 4600\n",
    "top3GenreMovies = pd.concat([Drama[:maxCount], Comedy[:maxCount],Action[:maxCount]], ignore_index=True)\n",
    "import numpy as np\n",
    "top3GenreMovies = top3GenreMovies.reindex(np.random.permutation(top3GenreMovies.index))\n",
    "top3GenreMovies = top3GenreMovies.reset_index(drop=True)\n",
    "print top3GenreMovies.shape\n",
    "top3GenreMovies.head()"
   ]
  },
  {
   "cell_type": "code",
   "execution_count": 29,
   "metadata": {},
   "outputs": [
    {
     "name": "stdout",
     "output_type": "stream",
     "text": [
      "['Genre', 'imdbId', 'Feature1', 'Feature2']\n"
     ]
    }
   ],
   "source": [
    "columns = list(top3GenreMovies.columns.values)\n",
    "print columns"
   ]
  },
  {
   "cell_type": "code",
   "execution_count": 31,
   "metadata": {
    "collapsed": true
   },
   "outputs": [],
   "source": [
    "import numpy as np\n",
    "def getfeatures():\n",
    "    temp = top3GenreMovies.Feature1.unique()\n",
    "    features ={x:i for i,x in enumerate(temp)}\n",
    "    return features\n",
    "\n",
    "def generateLabel(item):\n",
    "    features = getfeatures()\n",
    "    return features[item[0]]"
   ]
  },
  {
   "cell_type": "code",
   "execution_count": 32,
   "metadata": {},
   "outputs": [
    {
     "name": "stdout",
     "output_type": "stream",
     "text": [
      "{'Action': 0, 'Drama': 1, 'Comedy': 2}\n",
      "3\n"
     ]
    },
    {
     "data": {
      "text/html": [
       "<div>\n",
       "<table border=\"1\" class=\"dataframe\">\n",
       "  <thead>\n",
       "    <tr style=\"text-align: right;\">\n",
       "      <th></th>\n",
       "      <th>Genre</th>\n",
       "      <th>imdbId</th>\n",
       "      <th>Feature1</th>\n",
       "      <th>Feature2</th>\n",
       "    </tr>\n",
       "  </thead>\n",
       "  <tbody>\n",
       "    <tr>\n",
       "      <th>0</th>\n",
       "      <td>Action|Adventure|Drama</td>\n",
       "      <td>35153</td>\n",
       "      <td>Action</td>\n",
       "      <td>0</td>\n",
       "    </tr>\n",
       "    <tr>\n",
       "      <th>1</th>\n",
       "      <td>Drama</td>\n",
       "      <td>1630036</td>\n",
       "      <td>Drama</td>\n",
       "      <td>1</td>\n",
       "    </tr>\n",
       "    <tr>\n",
       "      <th>2</th>\n",
       "      <td>Comedy|Romance</td>\n",
       "      <td>1195478</td>\n",
       "      <td>Comedy</td>\n",
       "      <td>2</td>\n",
       "    </tr>\n",
       "    <tr>\n",
       "      <th>3</th>\n",
       "      <td>Comedy|Action|Crime</td>\n",
       "      <td>79966</td>\n",
       "      <td>Comedy</td>\n",
       "      <td>2</td>\n",
       "    </tr>\n",
       "    <tr>\n",
       "      <th>4</th>\n",
       "      <td>Drama|History</td>\n",
       "      <td>1029364</td>\n",
       "      <td>Drama</td>\n",
       "      <td>1</td>\n",
       "    </tr>\n",
       "  </tbody>\n",
       "</table>\n",
       "</div>"
      ],
      "text/plain": [
       "                    Genre   imdbId Feature1  Feature2\n",
       "0  Action|Adventure|Drama    35153   Action         0\n",
       "1                   Drama  1630036    Drama         1\n",
       "2          Comedy|Romance  1195478   Comedy         2\n",
       "3     Comedy|Action|Crime    79966   Comedy         2\n",
       "4           Drama|History  1029364    Drama         1"
      ]
     },
     "execution_count": 32,
     "metadata": {},
     "output_type": "execute_result"
    }
   ],
   "source": [
    "#del topGenreMovies.Feature2\n",
    "features = getfeatures()\n",
    "print features\n",
    "print len(features)\n",
    "top3GenreMovies['Feature2'] = top3GenreMovies.iloc[:,2:3].apply(generateLabel, axis=1)\n",
    "top3GenreMovies.head()"
   ]
  },
  {
   "cell_type": "code",
   "execution_count": 35,
   "metadata": {
    "collapsed": true
   },
   "outputs": [],
   "source": [
    "top3GenreMovies.to_csv(\"./../Dataset/BalancedTop3FullGenre.csv\",index = False,encoding='utf-8')"
   ]
  }
 ],
 "metadata": {
  "kernelspec": {
   "display_name": "Python 2",
   "language": "python",
   "name": "python2"
  },
  "language_info": {
   "codemirror_mode": {
    "name": "ipython",
    "version": 2
   },
   "file_extension": ".py",
   "mimetype": "text/x-python",
   "name": "python",
   "nbconvert_exporter": "python",
   "pygments_lexer": "ipython2",
   "version": "2.7.13"
  }
 },
 "nbformat": 4,
 "nbformat_minor": 2
}
