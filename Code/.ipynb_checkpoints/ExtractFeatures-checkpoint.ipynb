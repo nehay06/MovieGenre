{
 "cells": [
  {
   "cell_type": "code",
   "execution_count": 19,
   "metadata": {
    "collapsed": true
   },
   "outputs": [],
   "source": [
    "import numpy as np\n",
    "import cv2\n",
    "from skimage.color import rgb2hsv, hsv2rgb\n",
    "from skimage import feature\n",
    "from matplotlib import pyplot as plt"
   ]
  },
  {
   "cell_type": "code",
   "execution_count": 20,
   "metadata": {},
   "outputs": [
    {
     "data": {
      "text/plain": [
       "(268, 182, 3)"
      ]
     },
     "execution_count": 20,
     "metadata": {},
     "output_type": "execute_result"
    }
   ],
   "source": [
    "imageFile = \"./../Dataset/MovieGenreFullPosters/2461.jpg\"\n",
    "image = cv2.imread(imageFile)\n",
    "image.shape"
   ]
  },
  {
   "cell_type": "code",
   "execution_count": 21,
   "metadata": {},
   "outputs": [
    {
     "data": {
      "text/plain": [
       "(146328,)"
      ]
     },
     "execution_count": 21,
     "metadata": {},
     "output_type": "execute_result"
    }
   ],
   "source": [
    "from skimage.io import imread\n",
    "image = imread(imageFile)\n",
    "image = image.flatten()\n",
    "image.shape"
   ]
  },
  {
   "cell_type": "code",
   "execution_count": 22,
   "metadata": {
    "collapsed": true
   },
   "outputs": [],
   "source": [
    "def getMoments(image):\n",
    "    imageHSV = cv2.cvtColor(image,cv2.COLOR_BGR2HSV)\n",
    "    (means, stds) = cv2.meanStdDev(imageHSV)\n",
    "    moments = cv2.moments(imageHSV[:,:,0])\n",
    "    skew0 = moments['mu11'] / moments['mu02'] if moments['mu02'] !=0 else moments['mu11']\n",
    "    moments = cv2.moments(imageHSV[:,:,1])\n",
    "    skew1 = moments['mu11'] / moments['mu02'] if moments['mu02'] !=0 else moments['mu11']\n",
    "    moments = cv2.moments(imageHSV[:,:,2])\n",
    "    skew2 = moments['mu11'] / moments['mu02'] if moments['mu02'] !=0 else moments['mu11']\n",
    "    skew = np.asarray([skew0,skew1,skew2]).reshape((3, 1))\n",
    "    stats = np.concatenate([means, stds,skew]).flatten()\n",
    "    imageGray = cv2.cvtColor(image, cv2.COLOR_BGR2GRAY)\n",
    "    Moments = cv2.HuMoments(cv2.moments(imageGray)).flatten()\n",
    "    moments = np.asarray(Moments)\n",
    "    finalMoments = np.append(stats,moments)\n",
    "    return finalMoments"
   ]
  },
  {
   "cell_type": "code",
   "execution_count": 23,
   "metadata": {
    "collapsed": true
   },
   "outputs": [],
   "source": [
    "def getLBPFeatures(image,numPoints, radius):\n",
    "    lbp = feature.local_binary_pattern(image, numPoints,\n",
    "            radius, method=\"uniform\")\n",
    "    (hist, _) = np.histogram(lbp.ravel(),\n",
    "            bins=np.arange(0, numPoints + 3),\n",
    "            range=(0, numPoints + 2))\n",
    "    # normalize the histogram\n",
    "    eps=1e-7\n",
    "    hist = hist.astype(\"float\")\n",
    "    hist /= (hist.sum() + eps)\n",
    "    return hist"
   ]
  },
  {
   "cell_type": "code",
   "execution_count": 24,
   "metadata": {
    "collapsed": true
   },
   "outputs": [],
   "source": [
    "def getHSVFeatures(image,bins):\n",
    "    image = cv2.cvtColor(image, cv2.COLOR_BGR2HSV)\n",
    "    hist = cv2.calcHist([image], [0, 1, 2], None, bins,\n",
    "            [0, 180, 0, 256, 0, 256])\n",
    "    features = cv2.normalize(hist,hist).flatten()\n",
    "    return features"
   ]
  },
  {
   "cell_type": "code",
   "execution_count": 25,
   "metadata": {
    "collapsed": true
   },
   "outputs": [],
   "source": [
    "def drawGraphHSV(image):\n",
    "    image = cv2.cvtColor(image,cv2.COLOR_BGR2HSV)\n",
    "    chans = cv2.split(image)\n",
    "    colors = (\"b\", \"g\", \"r\")\n",
    "    plt.figure()\n",
    "    plt.title(\"'Flattened' Color Histogram\")\n",
    "    plt.xlabel(\"Bins\")\n",
    "    plt.ylabel(\"# of Pixels\")\n",
    "    features = []\n",
    "    # loop over the image channels\n",
    "    for (chan, color) in zip(chans, colors):\n",
    "        # create a histogram for the current channel and\n",
    "        # concatenate the resulting histograms for each\n",
    "        # channel\n",
    "        hist = cv2.calcHist([chan], [0], None, [256], [0, 256]) \n",
    "        (minVal, maxVal, minLoc, maxLoc) = cv2.minMaxLoc(hist)\n",
    "        print minVal, maxVal, minLoc, maxLoc\n",
    "        features.extend(hist)\n",
    "        # plot the histogram\n",
    "        plt.plot(hist,color = color)\n",
    "        plt.xlim([0, 256])\n",
    "        #plt.show()\n",
    "    print \"flattened feature vector size: %d\" % (np.array(features).flatten().shape)\n",
    "    plt.show()\n"
   ]
  },
  {
   "cell_type": "code",
   "execution_count": 26,
   "metadata": {
    "collapsed": true
   },
   "outputs": [],
   "source": [
    "def getTopHSVFeatures(image):\n",
    "    image = cv2.cvtColor(image,cv2.COLOR_BGR2HSV)\n",
    "    chans = cv2.split(image)\n",
    "    features = []\n",
    "    for index,channel in enumerate(chans):\n",
    "        if index == 0:\n",
    "            hist = cv2.calcHist([channel], [0], None, [180], [0, 256]) \n",
    "        else:\n",
    "            hist = cv2.calcHist([channel], [0], None, [256], [0, 256]) \n",
    "        histFeatures = cv2.normalize(hist,hist).flatten()\n",
    "        temp = np.partition(-histFeatures, 12)\n",
    "        result = -temp[:12]\n",
    "        features.extend(result)\n",
    "    return features"
   ]
  },
  {
   "cell_type": "code",
   "execution_count": 35,
   "metadata": {},
   "outputs": [
    {
     "name": "stdout",
     "output_type": "stream",
     "text": [
      "(100, 100)\n",
      "(212,)\n",
      "(212, 128)\n"
     ]
    }
   ],
   "source": [
    "import cv2\n",
    "import numpy as np\n",
    "imageFile = \"/Users/nehayadav/Downloads/MLProject/Dataset/PostersResized40/2461.jpg\"\n",
    "image = cv2.imread(imageFile,0)\n",
    "print image.shape\n",
    "def getSIFTFeatures(image):\n",
    "    sift = cv2.xfeatures2d.SIFT_create()\n",
    "    keypoints, descriptors = sift.detectAndCompute(image, None)\n",
    "    return keypoints, descriptors\n",
    "\n",
    "keypoints, descriptors = getSIFTFeatures(image)\n",
    "keypoints, descriptors = np.asarray(keypoints),np.array(descriptors)\n",
    "print keypoints.shape\n",
    "print descriptors.shape"
   ]
  },
  {
   "cell_type": "code",
   "execution_count": 36,
   "metadata": {
    "collapsed": true
   },
   "outputs": [],
   "source": [
    "def loadBOWFeatures():\n",
    "    imageDir = \"/Users/nehayadav/Downloads/MLProject/Dataset/PostersResized40/\"  \n",
    "    inputData = []\n",
    "    labels = []\n",
    "    bow_train = cv2.BOWKMeansTrainer(5)\n",
    "    flann_params = dict(algorithm = 1, trees = 5) \n",
    "    matcher = cv2.FlannBasedMatcher(flann_params, {})\n",
    "    detect = cv2.xfeatures2d.SIFT_create()\n",
    "    for index, row in df.iterrows(): \n",
    "        filename = str(row[columns[1]])+\".jpg\"\n",
    "        label = row[columns[2]]\n",
    "        original_image = cv2.imread(imageDir+filename,0)\n",
    "        keypoints, descriptors = getSIFTFeatures(original_image)\n",
    "        bow_train.add(descriptors)\n",
    "    \n",
    "    voc = bow_train.cluster()\n",
    "    extract = cv2.xfeatures2d.SIFT_create()\n",
    "    bow_extract = cv2.BOWImgDescriptorExtractor( extract, matcher )\n",
    "    bow_extract.setVocabulary( voc )\n",
    "    print \"bow vocab\", np.shape(voc), voc\n",
    "    for index, row in df.iterrows(): \n",
    "        filename = str(row[columns[1]])+\".jpg\"\n",
    "        label = row[columns[2]]\n",
    "        original_image =cv2.imread(imageDir+filename,0) \n",
    "        bowFeatures = bow_extract.compute(original_image, detect.detect(original_image))\n",
    "        inputData.extend(bowFeatures)\n",
    "        labels.append(label)\n",
    "    return inputData,labels"
   ]
  },
  {
   "cell_type": "code",
   "execution_count": null,
   "metadata": {
    "collapsed": true
   },
   "outputs": [],
   "source": [
    "def refinedHSVFeatures(bins,image):\n",
    "    image = cv2.cvtColor(image, cv2.COLOR_BGR2HSV)\n",
    "    features = []\n",
    "    \n",
    "    (h, w) = image.shape[:2]\n",
    "    (cX, cY) = (int(w * 0.5), int(h * 0.5))\n",
    "    segments = [(0, cX, 0, cY), (cX, w, 0, cY), (cX, w, cY, h),\n",
    "            (0, cX, cY, h)]\n",
    "    \n",
    "\n",
    "    (axesX, axesY) = (int(w * 0.75) / 2, int(h * 0.75) / 2)\n",
    "    ellipMask = np.zeros(image.shape[:2], dtype = \"uint8\")\n",
    "    cv2.ellipse(ellipMask, (cX, cY), (axesX, axesY), 0, 0, 360, 255, -1)\n",
    "\n",
    "    for (startX, endX, startY, endY) in segments:\n",
    "        cornerMask = np.zeros(image.shape[:2], dtype = \"uint8\")\n",
    "        cv2.rectangle(cornerMask, (startX, startY), (endX, endY), 255, -1)\n",
    "        cornerMask = cv2.subtract(cornerMask, ellipMask)\n",
    "        hist = self.histogram(image, cornerMask)\n",
    "        features.extend(hist)\n",
    "\n",
    "    hist = cv2.calcHist([image], [0, 1, 2], ellipMask, self.bins,\n",
    "            [0, 180, 0, 256, 0, 256])\n",
    "    hist = cv2.normalize(hist,hist).flatten()\n",
    "    features.extend(hist)\n",
    "    \n",
    "    return features   "
   ]
  }
 ],
 "metadata": {
  "kernelspec": {
   "display_name": "Python 2",
   "language": "python",
   "name": "python2"
  },
  "language_info": {
   "codemirror_mode": {
    "name": "ipython",
    "version": 2
   },
   "file_extension": ".py",
   "mimetype": "text/x-python",
   "name": "python",
   "nbconvert_exporter": "python",
   "pygments_lexer": "ipython2",
   "version": "2.7.13"
  }
 },
 "nbformat": 4,
 "nbformat_minor": 2
}
