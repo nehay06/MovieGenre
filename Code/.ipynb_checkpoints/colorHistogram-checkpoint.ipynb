{
 "cells": [
  {
   "cell_type": "code",
   "execution_count": 56,
   "metadata": {
    "collapsed": true
   },
   "outputs": [],
   "source": [
    "import numpy as np\n",
    "import cv2\n",
    "from matplotlib import pyplot as plt\n",
    "from skimage.color import rgb2hsv, hsv2rgb"
   ]
  },
  {
   "cell_type": "markdown",
   "metadata": {},
   "source": [
    "Read the Image and print it's Shape using OpenCV Library"
   ]
  },
  {
   "cell_type": "code",
   "execution_count": 57,
   "metadata": {},
   "outputs": [
    {
     "data": {
      "text/plain": [
       "(268, 182, 3)"
      ]
     },
     "execution_count": 57,
     "metadata": {},
     "output_type": "execute_result"
    }
   ],
   "source": [
    "imageFile = \"./../Dataset/MovieGenreFullPosters/2461.jpg\"\n",
    "image = cv2.imread(imageFile)\n",
    "image.shape"
   ]
  },
  {
   "cell_type": "markdown",
   "metadata": {},
   "source": [
    "Flatten the image to make one vector"
   ]
  },
  {
   "cell_type": "code",
   "execution_count": 58,
   "metadata": {},
   "outputs": [
    {
     "data": {
      "text/plain": [
       "(146328,)"
      ]
     },
     "execution_count": 58,
     "metadata": {},
     "output_type": "execute_result"
    }
   ],
   "source": [
    "raw = image.flatten()\n",
    "raw.shape"
   ]
  },
  {
   "cell_type": "markdown",
   "metadata": {},
   "source": [
    "Convert RGB to HSV"
   ]
  },
  {
   "cell_type": "code",
   "execution_count": 61,
   "metadata": {},
   "outputs": [
    {
     "name": "stdout",
     "output_type": "stream",
     "text": [
      "3D histogram shape: (8, 8, 8), with 512 values\n"
     ]
    }
   ],
   "source": [
    "imageHSV = cv2.cvtColor(image,cv2.COLOR_BGR2HSV)\n",
    "hist = cv2.calcHist([imageHSV], [0, 1, 2],\n",
    "    None, [8, 8, 8], [0, 180, 0, 256, 0, 256])\n",
    "print \"3D histogram shape: %s, with %d values\" % (\n",
    "    hist.shape, hist.flatten().shape[0])"
   ]
  },
  {
   "cell_type": "code",
   "execution_count": 12,
   "metadata": {},
   "outputs": [
    {
     "name": "stdout",
     "output_type": "stream",
     "text": [
      "colors b\n",
      "0.0 1263.0 (0, 180) (0, 18)\n",
      "colors g\n",
      "0.0 1681.0 (0, 0) (0, 241)\n",
      "colors r\n",
      "0.0 1837.0 (0, 0) (0, 255)\n",
      "flattened feature vector size: 768\n"
     ]
    },
    {
     "data": {
      "image/png": "[encoded data removed]",
      "text/plain": [
       "<matplotlib.figure.Figure at 0x11b39ded0>"
      ]
     },
     "metadata": {},
     "output_type": "display_data"
    }
   ],
   "source": [
    "# grab the image channels, initialize the tuple of colors,\n",
    "# the figure and the flattened feature vector\n",
    "chans = cv2.split(image)\n",
    "colors = (\"b\", \"g\", \"r\")\n",
    "plt.figure()\n",
    "plt.title(\"'Flattened' Color Histogram\")\n",
    "plt.xlabel(\"Bins\")\n",
    "plt.ylabel(\"# of Pixels\")\n",
    "features = []\n",
    "# loop over the image channels\n",
    "for (chan, color) in zip(chans, colors):\n",
    "    # create a histogram for the current channel and\n",
    "    # concatenate the resulting histograms for each\n",
    "    # channel\n",
    "    print \"colors\",color\n",
    "    if color == \"h\":\n",
    "        hist = cv2.calcHist([chan], [0], None, [256], [0, 256])\n",
    "    else:\n",
    "         hist = cv2.calcHist([chan], [0], None, [256], [0, 256]) \n",
    "    (minVal, maxVal, minLoc, maxLoc) = cv2.minMaxLoc(hist)\n",
    "    print minVal, maxVal, minLoc, maxLoc\n",
    "    features.extend(hist)\n",
    " \n",
    "    # plot the histogram\n",
    "    plt.plot(hist,color = color)\n",
    "    plt.xlim([0, 256])\n",
    "    #plt.show()\n",
    "\n",
    "# here we are simply showing the dimensionality of the\n",
    "# flattened color histogram 256 bins for each channel\n",
    "# x 3 channels = 768 total values -- in practice, we would\n",
    "# normally not use 256 bins for each channel, a choice\n",
    "# between 32-96 bins are normally used, but this tends\n",
    "# to be application dependent\n",
    "print \"flattened feature vector size: %d\" % (np.array(features).flatten().shape)\n",
    "plt.show()"
   ]
  },
  {
   "cell_type": "code",
   "execution_count": null,
   "metadata": {
    "collapsed": true
   },
   "outputs": [],
   "source": [
    " "
   ]
  }
 ],
 "metadata": {
  "kernelspec": {
   "display_name": "Python 2",
   "language": "python",
   "name": "python2"
  },
  "language_info": {
   "codemirror_mode": {
    "name": "ipython",
    "version": 2
   },
   "file_extension": ".py",
   "mimetype": "text/x-python",
   "name": "python",
   "nbconvert_exporter": "python",
   "pygments_lexer": "ipython2",
   "version": "2.7.13"
  }
 },
 "nbformat": 4,
 "nbformat_minor": 2
}
