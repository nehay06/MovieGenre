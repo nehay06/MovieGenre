{
 "cells": [
  {
   "cell_type": "code",
   "execution_count": 1,
   "metadata": {},
   "outputs": [
    {
     "data": {
      "text/html": [
       "<div>\n",
       "<table border=\"1\" class=\"dataframe\">\n",
       "  <thead>\n",
       "    <tr style=\"text-align: right;\">\n",
       "      <th></th>\n",
       "      <th>Genre</th>\n",
       "      <th>imdbId</th>\n",
       "    </tr>\n",
       "  </thead>\n",
       "  <tbody>\n",
       "    <tr>\n",
       "      <th>0</th>\n",
       "      <td>Animation|Adventure|Comedy</td>\n",
       "      <td>114709</td>\n",
       "    </tr>\n",
       "    <tr>\n",
       "      <th>1</th>\n",
       "      <td>Action|Adventure|Family</td>\n",
       "      <td>113497</td>\n",
       "    </tr>\n",
       "    <tr>\n",
       "      <th>2</th>\n",
       "      <td>Comedy|Romance</td>\n",
       "      <td>113228</td>\n",
       "    </tr>\n",
       "    <tr>\n",
       "      <th>3</th>\n",
       "      <td>Comedy|Drama|Romance</td>\n",
       "      <td>114885</td>\n",
       "    </tr>\n",
       "    <tr>\n",
       "      <th>4</th>\n",
       "      <td>Comedy|Family|Romance</td>\n",
       "      <td>113041</td>\n",
       "    </tr>\n",
       "  </tbody>\n",
       "</table>\n",
       "</div>"
      ],
      "text/plain": [
       "                        Genre  imdbId\n",
       "0  Animation|Adventure|Comedy  114709\n",
       "1     Action|Adventure|Family  113497\n",
       "2              Comedy|Romance  113228\n",
       "3        Comedy|Drama|Romance  114885\n",
       "4       Comedy|Family|Romance  113041"
      ]
     },
     "execution_count": 1,
     "metadata": {},
     "output_type": "execute_result"
    }
   ],
   "source": [
    "import pandas as pd\n",
    "df = pd.read_csv(\"./../Dataset/GenreFull.csv\",delimiter=\",\").fillna(\"-NA-\")\n",
    "df.head()"
   ]
  },
  {
   "cell_type": "code",
   "execution_count": 3,
   "metadata": {},
   "outputs": [
    {
     "name": "stdout",
     "output_type": "stream",
     "text": [
      "Drama                         4205\n",
      "Comedy                        2408\n",
      "Documentary                   1559\n",
      "Comedy|Drama                  1474\n",
      "Drama|Romance                 1448\n",
      "Comedy|Drama|Romance          1130\n",
      "Comedy|Romance                1002\n",
      "Horror                         715\n",
      "Action|Crime|Drama             558\n",
      "Crime|Drama                    529\n",
      "Drama|Thriller                 509\n",
      "Crime|Drama|Thriller           505\n",
      "Horror|Thriller                487\n",
      "Crime|Drama|Mystery            342\n",
      "Thriller                       329\n",
      "Drama|War                      321\n",
      "Western                        292\n",
      "Comedy|Crime|Drama             289\n",
      "Action|Comedy|Crime            275\n",
      "Biography|Drama                269\n",
      "Action|Adventure|Drama         264\n",
      "Action|Crime|Thriller          256\n",
      "Comedy|Crime                   247\n",
      "Horror|Mystery|Thriller        245\n",
      "Action|Adventure|Comedy        245\n",
      "Biography|Drama|History        243\n",
      "Documentary|Music              242\n",
      "Crime|Drama|Film-Noir          241\n",
      "Animation|Adventure|Comedy     236\n",
      "Animation|Action|Adventure     201\n",
      "                              ... \n",
      "Animation|Drama|Mystery          1\n",
      "Animation|Musical|Short          1\n",
      "Drama|War|Comedy                 1\n",
      "Drama|War|Adventure              1\n",
      "Drama|Thriller|Comedy            1\n",
      "Animation|Drama|War              1\n",
      "Drama|Sport|Western              1\n",
      "Drama|Sport|War                  1\n",
      "Drama|Sport|Thriller             1\n",
      "Drama|Short|Fantasy              1\n",
      "Drama|Sci-Fi|Sport               1\n",
      "Drama|Sci-Fi|Romance             1\n",
      "Drama|Sci-Fi|Horror              1\n",
      "Animation|Family|Sci-Fi          1\n",
      "Drama|Sci-Fi|Crime               1\n",
      "Animation|Family|Western         1\n",
      "Animation|Fantasy|Family         1\n",
      "Drama|Romance|Fantasy            1\n",
      "Animation|Fantasy|Music          1\n",
      "Animation|Fantasy|Musical        1\n",
      "Drama|Romance|Family             1\n",
      "Drama|Romance|Crime              1\n",
      "Animation|History                1\n",
      "Animation|History|Horror         1\n",
      "Drama|Romance|Adventure          1\n",
      "Animation|Horror|Music           1\n",
      "Drama|Mystery|News               1\n",
      "Drama|Mystery|Music              1\n",
      "Drama|Mystery|Crime              1\n",
      "Western|Sci-Fi|Thriller          1\n",
      "Name: Genre, dtype: int64\n"
     ]
    },
    {
     "data": {
      "text/html": [
       "<div>\n",
       "<table border=\"1\" class=\"dataframe\">\n",
       "  <thead>\n",
       "    <tr style=\"text-align: right;\">\n",
       "      <th></th>\n",
       "      <th>Genre</th>\n",
       "    </tr>\n",
       "    <tr>\n",
       "      <th>imdbId</th>\n",
       "      <th></th>\n",
       "    </tr>\n",
       "  </thead>\n",
       "  <tbody>\n",
       "    <tr>\n",
       "      <th>3</th>\n",
       "      <td>[Animation|Comedy|Short]</td>\n",
       "    </tr>\n",
       "    <tr>\n",
       "      <th>5</th>\n",
       "      <td>[Short]</td>\n",
       "    </tr>\n",
       "    <tr>\n",
       "      <th>8</th>\n",
       "      <td>[Documentary|Short]</td>\n",
       "    </tr>\n",
       "    <tr>\n",
       "      <th>12</th>\n",
       "      <td>[Documentary|Short]</td>\n",
       "    </tr>\n",
       "    <tr>\n",
       "      <th>14</th>\n",
       "      <td>[Comedy|Short]</td>\n",
       "    </tr>\n",
       "  </tbody>\n",
       "</table>\n",
       "</div>"
      ],
      "text/plain": [
       "                           Genre\n",
       "imdbId                          \n",
       "3       [Animation|Comedy|Short]\n",
       "5                        [Short]\n",
       "8            [Documentary|Short]\n",
       "12           [Documentary|Short]\n",
       "14                [Comedy|Short]"
      ]
     },
     "execution_count": 3,
     "metadata": {},
     "output_type": "execute_result"
    }
   ],
   "source": [
    "print df.Genre.astype('category').value_counts()\n",
    "genres = df.groupby('imdbId').agg(lambda x: x.tolist())\n",
    "genres.head()"
   ]
  },
  {
   "cell_type": "code",
   "execution_count": 4,
   "metadata": {
    "collapsed": true
   },
   "outputs": [],
   "source": [
    "def genreFilter1(item):\n",
    "    if \"|\" in item[0]:\n",
    "        return str(item[0]).split(\"|\")[0]\n",
    "    else:\n",
    "        return item[0]"
   ]
  },
  {
   "cell_type": "code",
   "execution_count": 5,
   "metadata": {
    "collapsed": true
   },
   "outputs": [],
   "source": [
    "def genreFilter2(item):\n",
    "    if \"|\" in item[0]:\n",
    "        genres = str(item[0]).split(\"|\")\n",
    "        genre = genres[0]\n",
    "        if \"Drama\" in genres:\n",
    "            genre = \"Drama\"\n",
    "        if \"Comedy\" in genres:\n",
    "            genre = \"Comedy\"\n",
    "        if \"Romance\" in genres:\n",
    "            genre = \"Romance\"\n",
    "        if \"Action\" in genres:\n",
    "            genre = \"Action\"\n",
    "        if \"Horror\" in genres:\n",
    "            genre = \"Horror\"\n",
    "        return genre \n",
    "            \n",
    "    else:\n",
    "        return item[0]"
   ]
  },
  {
   "cell_type": "code",
   "execution_count": 6,
   "metadata": {},
   "outputs": [
    {
     "name": "stdout",
     "output_type": "stream",
     "text": [
      "['Genre', 'imdbId']\n"
     ]
    }
   ],
   "source": [
    "columns = list(df.columns.values)\n",
    "print columns"
   ]
  },
  {
   "cell_type": "code",
   "execution_count": 7,
   "metadata": {},
   "outputs": [
    {
     "name": "stdout",
     "output_type": "stream",
     "text": [
      "(1293,)\n"
     ]
    }
   ],
   "source": [
    "import numpy as np\n",
    "temp = df.Genre.unique()\n",
    "print(np.array(temp).shape)\n",
    "totalFeature ={x:i for i,x in enumerate(temp)}\n",
    "#print totalFeature "
   ]
  },
  {
   "cell_type": "code",
   "execution_count": 20,
   "metadata": {},
   "outputs": [
    {
     "data": {
      "text/html": [
       "<div>\n",
       "<table border=\"1\" class=\"dataframe\">\n",
       "  <thead>\n",
       "    <tr style=\"text-align: right;\">\n",
       "      <th></th>\n",
       "      <th>Genre</th>\n",
       "      <th>imdbId</th>\n",
       "      <th>Feature1</th>\n",
       "    </tr>\n",
       "  </thead>\n",
       "  <tbody>\n",
       "    <tr>\n",
       "      <th>0</th>\n",
       "      <td>Animation|Adventure|Comedy</td>\n",
       "      <td>114709</td>\n",
       "      <td>Animation</td>\n",
       "    </tr>\n",
       "    <tr>\n",
       "      <th>1</th>\n",
       "      <td>Action|Adventure|Family</td>\n",
       "      <td>113497</td>\n",
       "      <td>Action</td>\n",
       "    </tr>\n",
       "    <tr>\n",
       "      <th>2</th>\n",
       "      <td>Comedy|Romance</td>\n",
       "      <td>113228</td>\n",
       "      <td>Comedy</td>\n",
       "    </tr>\n",
       "    <tr>\n",
       "      <th>3</th>\n",
       "      <td>Comedy|Drama|Romance</td>\n",
       "      <td>114885</td>\n",
       "      <td>Comedy</td>\n",
       "    </tr>\n",
       "    <tr>\n",
       "      <th>4</th>\n",
       "      <td>Comedy|Family|Romance</td>\n",
       "      <td>113041</td>\n",
       "      <td>Comedy</td>\n",
       "    </tr>\n",
       "  </tbody>\n",
       "</table>\n",
       "</div>"
      ],
      "text/plain": [
       "                        Genre  imdbId   Feature1\n",
       "0  Animation|Adventure|Comedy  114709  Animation\n",
       "1     Action|Adventure|Family  113497     Action\n",
       "2              Comedy|Romance  113228     Comedy\n",
       "3        Comedy|Drama|Romance  114885     Comedy\n",
       "4       Comedy|Family|Romance  113041     Comedy"
      ]
     },
     "execution_count": 20,
     "metadata": {},
     "output_type": "execute_result"
    }
   ],
   "source": [
    "df['Feature1'] = df.iloc[:,0:1].apply(genreFilter1, axis=1)\n",
    "df.head()"
   ]
  },
  {
   "cell_type": "code",
   "execution_count": 21,
   "metadata": {},
   "outputs": [
    {
     "data": {
      "text/plain": [
       "Drama          9779\n",
       "Comedy         9657\n",
       "Action         4725\n",
       "Documentary    3526\n",
       "Crime          2546\n",
       "Horror         1971\n",
       "Adventure      1674\n",
       "Animation      1624\n",
       "Biography      1223\n",
       "Thriller        397\n",
       "Short           392\n",
       "Western         315\n",
       "Fantasy         272\n",
       "Mystery         256\n",
       "Family          243\n",
       "Romance         203\n",
       "Sci-Fi          192\n",
       "Musical         115\n",
       "War              65\n",
       "Music            36\n",
       "History          24\n",
       "Film-Noir        16\n",
       "Adult             7\n",
       "Talk-Show         3\n",
       "Sport             2\n",
       "Name: Feature1, dtype: int64"
      ]
     },
     "execution_count": 21,
     "metadata": {},
     "output_type": "execute_result"
    }
   ],
   "source": [
    "df.Feature1.value_counts()"
   ]
  },
  {
   "cell_type": "code",
   "execution_count": 8,
   "metadata": {
    "collapsed": true
   },
   "outputs": [],
   "source": [
    "import numpy as np\n",
    "def getfeatures():\n",
    "    temp = df.Feature1.unique()\n",
    "    features ={x:i for i,x in enumerate(temp)}\n",
    "    return features"
   ]
  },
  {
   "cell_type": "code",
   "execution_count": 15,
   "metadata": {},
   "outputs": [
    {
     "name": "stdout",
     "output_type": "stream",
     "text": [
      "{'Sci-Fi': 10, 'Crime': 5, 'Romance': 9, 'Animation': 0, 'Music': 20, 'Adult': 23, 'Comedy': 2, 'War': 19, 'Horror': 13, 'Film-Noir': 18, 'Adventure': 3, 'Thriller': 14, 'Western': 17, 'Mystery': 8, 'Short': 16, 'Talk-Show': 21, 'Drama': 6, 'Action': 1, 'Documentary': 11, 'Musical': 15, 'History': 22, 'Family': 12, 'Fantasy': 7, 'Sport': 24, 'Biography': 4}\n",
      "25\n"
     ]
    }
   ],
   "source": [
    "features = getfeatures()\n",
    "print features\n",
    "print len(features)"
   ]
  },
  {
   "cell_type": "code",
   "execution_count": 17,
   "metadata": {
    "collapsed": true
   },
   "outputs": [],
   "source": [
    "def generateLabel(item):\n",
    "    features = getfeatures()\n",
    "    return features[item[0]]"
   ]
  },
  {
   "cell_type": "code",
   "execution_count": 22,
   "metadata": {},
   "outputs": [
    {
     "data": {
      "text/html": [
       "<div>\n",
       "<table border=\"1\" class=\"dataframe\">\n",
       "  <thead>\n",
       "    <tr style=\"text-align: right;\">\n",
       "      <th></th>\n",
       "      <th>Genre</th>\n",
       "      <th>imdbId</th>\n",
       "      <th>Feature1</th>\n",
       "      <th>Feature2</th>\n",
       "    </tr>\n",
       "  </thead>\n",
       "  <tbody>\n",
       "    <tr>\n",
       "      <th>0</th>\n",
       "      <td>Animation|Adventure|Comedy</td>\n",
       "      <td>114709</td>\n",
       "      <td>Animation</td>\n",
       "      <td>0</td>\n",
       "    </tr>\n",
       "    <tr>\n",
       "      <th>1</th>\n",
       "      <td>Action|Adventure|Family</td>\n",
       "      <td>113497</td>\n",
       "      <td>Action</td>\n",
       "      <td>1</td>\n",
       "    </tr>\n",
       "    <tr>\n",
       "      <th>2</th>\n",
       "      <td>Comedy|Romance</td>\n",
       "      <td>113228</td>\n",
       "      <td>Comedy</td>\n",
       "      <td>2</td>\n",
       "    </tr>\n",
       "    <tr>\n",
       "      <th>3</th>\n",
       "      <td>Comedy|Drama|Romance</td>\n",
       "      <td>114885</td>\n",
       "      <td>Comedy</td>\n",
       "      <td>2</td>\n",
       "    </tr>\n",
       "    <tr>\n",
       "      <th>4</th>\n",
       "      <td>Comedy|Family|Romance</td>\n",
       "      <td>113041</td>\n",
       "      <td>Comedy</td>\n",
       "      <td>2</td>\n",
       "    </tr>\n",
       "  </tbody>\n",
       "</table>\n",
       "</div>"
      ],
      "text/plain": [
       "                        Genre  imdbId   Feature1  Feature2\n",
       "0  Animation|Adventure|Comedy  114709  Animation         0\n",
       "1     Action|Adventure|Family  113497     Action         1\n",
       "2              Comedy|Romance  113228     Comedy         2\n",
       "3        Comedy|Drama|Romance  114885     Comedy         2\n",
       "4       Comedy|Family|Romance  113041     Comedy         2"
      ]
     },
     "execution_count": 22,
     "metadata": {},
     "output_type": "execute_result"
    }
   ],
   "source": [
    "df['Feature2'] = df.iloc[:,2:3].apply(generateLabel, axis=1)\n",
    "df.head()"
   ]
  },
  {
   "cell_type": "code",
   "execution_count": 40,
   "metadata": {},
   "outputs": [
    {
     "data": {
      "text/html": [
       "<div>\n",
       "<table border=\"1\" class=\"dataframe\">\n",
       "  <thead>\n",
       "    <tr style=\"text-align: right;\">\n",
       "      <th></th>\n",
       "      <th>Genre</th>\n",
       "      <th>imdbId</th>\n",
       "      <th>Feature1</th>\n",
       "      <th>Feature3</th>\n",
       "      <th>Feature2</th>\n",
       "    </tr>\n",
       "  </thead>\n",
       "  <tbody>\n",
       "    <tr>\n",
       "      <th>0</th>\n",
       "      <td>Animation|Adventure|Comedy</td>\n",
       "      <td>114709</td>\n",
       "      <td>Animation</td>\n",
       "      <td>3</td>\n",
       "      <td>Comedy</td>\n",
       "    </tr>\n",
       "    <tr>\n",
       "      <th>1</th>\n",
       "      <td>Action|Adventure|Family</td>\n",
       "      <td>113497</td>\n",
       "      <td>Action</td>\n",
       "      <td>16</td>\n",
       "      <td>Action</td>\n",
       "    </tr>\n",
       "    <tr>\n",
       "      <th>2</th>\n",
       "      <td>Comedy|Romance</td>\n",
       "      <td>113228</td>\n",
       "      <td>Comedy</td>\n",
       "      <td>5</td>\n",
       "      <td>Romance</td>\n",
       "    </tr>\n",
       "    <tr>\n",
       "      <th>3</th>\n",
       "      <td>Comedy|Drama|Romance</td>\n",
       "      <td>114885</td>\n",
       "      <td>Comedy</td>\n",
       "      <td>5</td>\n",
       "      <td>Romance</td>\n",
       "    </tr>\n",
       "    <tr>\n",
       "      <th>4</th>\n",
       "      <td>Comedy|Family|Romance</td>\n",
       "      <td>113041</td>\n",
       "      <td>Comedy</td>\n",
       "      <td>5</td>\n",
       "      <td>Romance</td>\n",
       "    </tr>\n",
       "  </tbody>\n",
       "</table>\n",
       "</div>"
      ],
      "text/plain": [
       "                        Genre  imdbId   Feature1  Feature3 Feature2\n",
       "0  Animation|Adventure|Comedy  114709  Animation         3   Comedy\n",
       "1     Action|Adventure|Family  113497     Action        16   Action\n",
       "2              Comedy|Romance  113228     Comedy         5  Romance\n",
       "3        Comedy|Drama|Romance  114885     Comedy         5  Romance\n",
       "4       Comedy|Family|Romance  113041     Comedy         5  Romance"
      ]
     },
     "execution_count": 40,
     "metadata": {},
     "output_type": "execute_result"
    }
   ],
   "source": [
    "df['Feature2'] = df.iloc[:,0:1].apply(genreFilter2, axis=1)\n",
    "df.head()"
   ]
  },
  {
   "cell_type": "code",
   "execution_count": 41,
   "metadata": {},
   "outputs": [
    {
     "data": {
      "text/plain": [
       "Drama          2135\n",
       "Comedy         2092\n",
       "Romance        1715\n",
       "Action         1487\n",
       "Horror          883\n",
       "Documentary     390\n",
       "Adventure       101\n",
       "Crime            85\n",
       "Animation        82\n",
       "Mystery          43\n",
       "Sci-Fi           19\n",
       "Thriller         19\n",
       "Family           19\n",
       "Western          18\n",
       "Short             9\n",
       "Fantasy           6\n",
       "Film-Noir         4\n",
       "Biography         3\n",
       "Musical           3\n",
       "War               2\n",
       "Music             1\n",
       "Name: Feature2, dtype: int64"
      ]
     },
     "execution_count": 41,
     "metadata": {},
     "output_type": "execute_result"
    }
   ],
   "source": [
    "df.Feature2.value_counts()"
   ]
  },
  {
   "cell_type": "code",
   "execution_count": 11,
   "metadata": {},
   "outputs": [
    {
     "name": "stdout",
     "output_type": "stream",
     "text": [
      "['Genre', 'imdbId', 'Feature1']\n"
     ]
    }
   ],
   "source": [
    "columns = list(df.columns.values)\n",
    "print columns"
   ]
  },
  {
   "cell_type": "code",
   "execution_count": 44,
   "metadata": {
    "scrolled": true
   },
   "outputs": [
    {
     "data": {
      "text/html": [
       "<div>\n",
       "<table border=\"1\" class=\"dataframe\">\n",
       "  <thead>\n",
       "    <tr style=\"text-align: right;\">\n",
       "      <th></th>\n",
       "      <th>Genre</th>\n",
       "      <th>imdbId</th>\n",
       "      <th>Feature1</th>\n",
       "      <th>Feature3</th>\n",
       "      <th>Feature2</th>\n",
       "      <th>Feature4</th>\n",
       "    </tr>\n",
       "  </thead>\n",
       "  <tbody>\n",
       "    <tr>\n",
       "      <th>0</th>\n",
       "      <td>Animation|Adventure|Comedy</td>\n",
       "      <td>114709</td>\n",
       "      <td>Animation</td>\n",
       "      <td>3</td>\n",
       "      <td>Comedy</td>\n",
       "      <td>5</td>\n",
       "    </tr>\n",
       "    <tr>\n",
       "      <th>1</th>\n",
       "      <td>Action|Adventure|Family</td>\n",
       "      <td>113497</td>\n",
       "      <td>Action</td>\n",
       "      <td>16</td>\n",
       "      <td>Action</td>\n",
       "      <td>16</td>\n",
       "    </tr>\n",
       "    <tr>\n",
       "      <th>2</th>\n",
       "      <td>Comedy|Romance</td>\n",
       "      <td>113228</td>\n",
       "      <td>Comedy</td>\n",
       "      <td>5</td>\n",
       "      <td>Romance</td>\n",
       "      <td>2</td>\n",
       "    </tr>\n",
       "    <tr>\n",
       "      <th>3</th>\n",
       "      <td>Comedy|Drama|Romance</td>\n",
       "      <td>114885</td>\n",
       "      <td>Comedy</td>\n",
       "      <td>5</td>\n",
       "      <td>Romance</td>\n",
       "      <td>2</td>\n",
       "    </tr>\n",
       "    <tr>\n",
       "      <th>4</th>\n",
       "      <td>Comedy|Family|Romance</td>\n",
       "      <td>113041</td>\n",
       "      <td>Comedy</td>\n",
       "      <td>5</td>\n",
       "      <td>Romance</td>\n",
       "      <td>2</td>\n",
       "    </tr>\n",
       "  </tbody>\n",
       "</table>\n",
       "</div>"
      ],
      "text/plain": [
       "                        Genre  imdbId   Feature1  Feature3 Feature2  Feature4\n",
       "0  Animation|Adventure|Comedy  114709  Animation         3   Comedy         5\n",
       "1     Action|Adventure|Family  113497     Action        16   Action        16\n",
       "2              Comedy|Romance  113228     Comedy         5  Romance         2\n",
       "3        Comedy|Drama|Romance  114885     Comedy         5  Romance         2\n",
       "4       Comedy|Family|Romance  113041     Comedy         5  Romance         2"
      ]
     },
     "execution_count": 44,
     "metadata": {},
     "output_type": "execute_result"
    }
   ],
   "source": [
    "df['Feature4'] = df.iloc[:,4:5].apply(generateLabel, axis=1)\n",
    "df.head()"
   ]
  },
  {
   "cell_type": "code",
   "execution_count": 92,
   "metadata": {
    "collapsed": true
   },
   "outputs": [],
   "source": [
    "df.to_csv(\"./../Dataset/Genres10Labels.csv\",index = False,encoding='utf-8')"
   ]
  }
 ],
 "metadata": {
  "kernelspec": {
   "display_name": "Python 2",
   "language": "python",
   "name": "python2"
  },
  "language_info": {
   "codemirror_mode": {
    "name": "ipython",
    "version": 2
   },
   "file_extension": ".py",
   "mimetype": "text/x-python",
   "name": "python",
   "nbconvert_exporter": "python",
   "pygments_lexer": "ipython2",
   "version": "2.7.13"
  }
 },
 "nbformat": 4,
 "nbformat_minor": 2
}
